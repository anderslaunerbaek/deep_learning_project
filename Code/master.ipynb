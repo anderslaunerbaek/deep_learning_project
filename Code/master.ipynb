{
 "cells": [
  {
   "cell_type": "markdown",
   "metadata": {},
   "source": [
    "# Master notebook"
   ]
  },
  {
   "cell_type": "code",
   "execution_count": 1,
   "metadata": {
    "collapsed": true
   },
   "outputs": [],
   "source": [
    "VERSION = '0.0'"
   ]
  },
  {
   "cell_type": "code",
   "execution_count": 2,
   "metadata": {
    "collapsed": true
   },
   "outputs": [],
   "source": [
    "from __future__ import absolute_import, division, print_function \n",
    "import os\n",
    "import re\n",
    "import sys\n",
    "\n",
    "sys.path.append(os.path.join('.', '..')) \n",
    "import utils\n",
    "import utils_DL\n",
    "import utils_s160159 as u_s\n",
    "\n",
    "import matplotlib.pyplot as plt\n",
    "import numpy as np\n",
    "# import sklearn.datasets\n",
    "import tensorflow as tf\n",
    "\n",
    "from sklearn.model_selection import LeaveOneOut\n",
    "from sklearn.metrics import confusion_matrix"
   ]
  },
  {
   "cell_type": "markdown",
   "metadata": {},
   "source": [
    "## Load data"
   ]
  },
  {
   "cell_type": "code",
   "execution_count": 3,
   "metadata": {
    "collapsed": true
   },
   "outputs": [],
   "source": [
    "data_dir = './../Data_1'\n",
    "logs_path = './logs'\n",
    "# NUM_SUBJECTS = len([ff for ff in os.listdir(data_dir) if '_img_fpz' in ff])\n",
    "NUM_SUBJECTS = 20\n",
    "NUM_CLASSES = 6\n",
    "\n",
    "# TRAIN_IDX = list(range(NUM_SUBJECTS))\n",
    "# VAL_IDX = list(range(NUM_SUBJECTS))\n",
    "VAL_PER = 0.2\n",
    "VAL_TRAIN_ID = NUM_SUBJECTS-int(NUM_SUBJECTS * VAL_PER)-1\n"
   ]
  },
  {
   "cell_type": "code",
   "execution_count": 4,
   "metadata": {},
   "outputs": [
    {
     "name": "stdout",
     "output_type": "stream",
     "text": [
      "Loading subject 1...\n",
      "Loading subject 2...\n",
      "Loading subject 3...\n",
      "Loading subject 4...\n",
      "Loading subject 5...\n",
      "Loading subject 6...\n",
      "Loading subject 7...\n",
      "Loading subject 8...\n",
      "Loading subject 9...\n",
      "Loading subject 10...\n",
      "Loading subject 11...\n",
      "Loading subject 12...\n",
      "Loading subject 13...\n",
      "Loading subject 14...\n",
      "Loading subject 15...\n",
      "Loading subject 16...\n",
      "Loading subject 17...\n",
      "Loading subject 18...\n",
      "Loading subject 19...\n",
      "Loading subject 20...\n"
     ]
    }
   ],
   "source": [
    "#Load all subjects into memory\n",
    "subjects_list = []\n",
    "for i in range(1,NUM_SUBJECTS+1):\n",
    "    print(\"Loading subject %d...\" %(i))\n",
    "    inputs_night1, targets_night1, _  = u_s.load_spectrograms(data_path=data_dir, subject_id=i, night_id=1)\n",
    "    if(i!=20):\n",
    "        inputs_night2, targets_night2, _  = u_s.load_spectrograms(data_path=data_dir, subject_id=i, night_id=2)\n",
    "    else:\n",
    "        inputs_night2 = np.empty((0,224,224,3),dtype='uint8')\n",
    "        targets_night2 = np.empty((0,NUM_CLASSES),dtype='uint8')           \n",
    "\n",
    "    current_inputs = np.concatenate((inputs_night1,inputs_night2),axis=0)\n",
    "    current_targets = np.concatenate((targets_night1, targets_night2),axis=0)\n",
    "    \n",
    "    subjects_list.append([current_inputs, current_targets])\n",
    "    \n",
    "    #mean_images = np.zeros((5,224,224,3))\n",
    "    #mean_images[0,] = np.mean(current_inputs[current_targets==0,], axis=0)\n",
    "    #mean_images[1,] = np.mean(current_inputs[current_targets==1,], axis=0)\n",
    "    #mean_images[2,] = np.mean(current_inputs[current_targets==2,], axis=0)\n",
    "    #mean_images[3,] = np.mean(current_inputs[np.logical_or(current_targets==3, current_targets==4),], axis=0)\n",
    "    #mean_images[4,] = np.mean(current_inputs[current_targets==5,], axis=0)\n",
    "    #subjects_list.append([current_inputs, current_targets, mean_images])\n",
    "    \n",
    "    \n",
    "# extract image shapes\n",
    "IMAGE_SHAPE = subjects_list[0][0].shape"
   ]
  },
  {
   "cell_type": "markdown",
   "metadata": {},
   "source": [
    "## Building the model"
   ]
  },
  {
   "cell_type": "code",
   "execution_count": 5,
   "metadata": {
    "collapsed": true
   },
   "outputs": [],
   "source": [
    "# hyperameters\n",
    "HEIGTH, WIDTH, NCHANNELS = IMAGE_SHAPE[1], IMAGE_SHAPE[2], IMAGE_SHAPE[3]\n",
    "PADDING = 'same'\n",
    "\n",
    "#global_step = tf.Variable(0, trainable=False, name='global_step_traning')\n",
    "#MINI_BATCHES = tf.Variable(250, trainable=False, name='size_of_mini_batch')\n",
    "#DECAY_STEPS = tf.Variable(250, trainable=False, name='number_of_decay_steps')\n",
    "\n",
    "\n",
    "# L_RATE_START = tf.Variable(10e-5, trainable=False, name='learning_rate_start', dtype='float32')\n",
    "# BETA_1 = tf.Variable(0.9, trainable=False, name='learning_rate_first_moment') # first moment\n",
    "# BETA_2 = tf.Variable(0.999, trainable=False, name='learning_rate_second_moment') # second moment\n",
    "\n",
    "# L_RATE = tf.Variable((tf.train.exponential_decay(learning_rate=L_RATE_START,\n",
    "#                            global_step=global_step,\n",
    "#                            decay_rate=BETA_1,\n",
    "#                            decay_steps=DECAY_STEPS,\n",
    "#                            staircase=True) + \n",
    "#           tf.train.exponential_decay(learning_rate=L_RATE_START,\n",
    "#                            global_step=global_step,\n",
    "#                            decay_rate=BETA_2,\n",
    "#                            decay_steps=DECAY_STEPS,\n",
    "#                            staircase=True)),\n",
    "#                      trainable=False, name='learning_rate')\n",
    "# L_RATE = tf.cast(L_RATE, dtype='float32_ref', name='learning_rate')\n",
    "\n",
    "\n",
    "L_RATE = 10e-5\n",
    "\n",
    "EPS = 1e-8\n",
    "TRAIN_FEATURES = False\n",
    "\n",
    "\n",
    "\n"
   ]
  },
  {
   "cell_type": "code",
   "execution_count": 6,
   "metadata": {
    "collapsed": true
   },
   "outputs": [],
   "source": [
    "# https://www.cs.toronto.edu/~frossard/vgg16/vgg16.py\n",
    "\n",
    "# Load the weights into memory\n",
    "weights_dict = np.load(data_dir + '/' + 'vgg16_weights.npz', encoding='bytes')\n",
    "\n",
    "def tf_conv2d(inputs, name, trainable=TRAIN_FEATURES):\n",
    "    with tf.name_scope(name) as scope:\n",
    "        kernel = tf.get_variable(shape=weights_dict[name + '_W'].shape, \n",
    "                                 initializer=tf.constant_initializer(weights_dict[name + '_W']), \n",
    "                                 name=scope + 'weights', \n",
    "                                 trainable=trainable)\n",
    "        \n",
    "        conv = tf.nn.conv2d(inputs, kernel, strides=[1, 1, 1, 1], padding='SAME')\n",
    "        \n",
    "        biases = tf.get_variable(shape=weights_dict[name + '_b'].shape,\n",
    "                                 initializer=tf.constant_initializer(weights_dict[name + '_b']), \n",
    "                                 trainable=trainable, name=scope + 'biases')\n",
    "\n",
    "        return(tf.nn.relu(tf.nn.bias_add(conv, biases), name=scope))\n",
    "        \n",
    "\n",
    "def tf_max_pooling2d(inputs, name):\n",
    "    with tf.name_scope(name) as scope:\n",
    "        return(tf.nn.max_pool(inputs,\n",
    "                               ksize=[1, 2, 2, 1],\n",
    "                               strides=[1, 2, 2, 1],\n",
    "                               padding='SAME',\n",
    "                               name=scope))        \n",
    "\n",
    "def tf_fully_con(inputs, name, shape=[None, 4096]):\n",
    "    with tf.name_scope(name) as scope:    \n",
    "        fc_W = tf.Variable(tf.truncated_normal(shape, dtype=tf.float32, stddev=1e-1), \n",
    "                            name=scope + 'weights', trainable=True)\n",
    "\n",
    "        fc_b = tf.Variable(tf.constant(0.0, shape=[shape[1]], dtype=tf.float32),\n",
    "                             trainable=True, name=scope + 'biases')\n",
    "        \n",
    "        in_flat = tf.reshape(inputs, [-1, shape[0]])\n",
    "        return(tf.nn.relu(tf.nn.bias_add(tf.matmul(in_flat, fc_W), fc_b)))\n",
    "        "
   ]
  },
  {
   "cell_type": "code",
   "execution_count": 7,
   "metadata": {},
   "outputs": [
    {
     "name": "stdout",
     "output_type": "stream",
     "text": [
      "Trace of the tensors shape as it is propagated through the network.\n",
      "Layer name \t Output size\n",
      "--------------------------------------------\n",
      "x_pl \t\t (?, 224, 224, 3)\n",
      "conv1_1 \t (?, 224, 224, 64)\n",
      "conv1_2 \t (?, 224, 224, 64)\n",
      "pool1 \t\t (?, 112, 112, 64)\n",
      "--------------------------------------------\n",
      "conv2_1 \t (?, 112, 112, 128)\n",
      "conv2_2 \t (?, 112, 112, 128)\n",
      "pool2 \t\t (?, 56, 56, 128)\n",
      "--------------------------------------------\n",
      "conv3_1 \t (?, 56, 56, 256)\n",
      "conv3_2 \t (?, 56, 56, 256)\n",
      "conv3_3 \t (?, 56, 56, 256)\n",
      "pool3 \t\t (?, 28, 28, 256)\n",
      "--------------------------------------------\n",
      "conv4_1 \t (?, 28, 28, 512)\n",
      "conv4_2 \t (?, 28, 28, 512)\n",
      "conv4_3 \t (?, 28, 28, 512)\n",
      "pool4 \t\t (?, 14, 14, 512)\n",
      "--------------------------------------------\n",
      "conv5_1 \t (?, 14, 14, 512)\n",
      "conv5_2 \t (?, 14, 14, 512)\n",
      "conv5_3 \t (?, 14, 14, 512)\n",
      "pool5 \t\t (?, 7, 7, 512)\n",
      "--------------------------------------------\n",
      "fc6 \t (?, 4096)\n",
      "fc7 \t (?, 4096)\n",
      "fc8 \t (?, 6)\n",
      "--------------------------------------------\n",
      "out \t (?, 6)\n",
      "--------------------------------------------\n",
      "Model consits of  119570438 trainable parameters.\n"
     ]
    }
   ],
   "source": [
    "# init model\n",
    "tf.reset_default_graph()\n",
    "\n",
    "# init placeholders\n",
    "x_pl = tf.placeholder(tf.float32, [None, HEIGTH, WIDTH, NCHANNELS], name='input_placeholder')\n",
    "y_pl = tf.placeholder(tf.float32, [None, NUM_CLASSES], name='target_placeholder')\n",
    "\n",
    "\n",
    "print('Trace of the tensors shape as it is propagated through the network.')\n",
    "print('Layer name \\t Output size')\n",
    "print('--------------------------------------------')\n",
    "\n",
    "with tf.variable_scope('VVG16_layer'):\n",
    "    print('x_pl \\t\\t', x_pl.get_shape())\n",
    "    # level one\n",
    "    conv1_1 = tf_conv2d(inputs=x_pl, name='conv1_1')\n",
    "    conv1_2 = tf_conv2d(inputs=conv1_1, name='conv1_2')\n",
    "    pool1 = tf_max_pooling2d(inputs=conv1_2, name='pool1')\n",
    "    print('conv1_1 \\t', conv1_1.get_shape())\n",
    "    print('conv1_2 \\t', conv1_2.get_shape())\n",
    "    print('pool1 \\t\\t', pool1.get_shape())\n",
    "    print('--------------------------------------------')\n",
    "    \n",
    "    # level two\n",
    "    conv2_1 = tf_conv2d(inputs=pool1, name='conv2_1')\n",
    "    conv2_2 = tf_conv2d(inputs=conv2_1, name='conv2_2')\n",
    "    pool2 = tf_max_pooling2d(inputs=conv2_2, name='pool2')\n",
    "    print('conv2_1 \\t', conv2_1.get_shape())\n",
    "    print('conv2_2 \\t', conv2_2.get_shape())\n",
    "    print('pool2 \\t\\t', pool2.get_shape())\n",
    "    print('--------------------------------------------')\n",
    "    \n",
    "    # level three\n",
    "    conv3_1 = tf_conv2d(inputs=pool2, name='conv3_1')\n",
    "    conv3_2 = tf_conv2d(inputs=conv3_1, name='conv3_2')\n",
    "    conv3_3 = tf_conv2d(inputs=conv3_2, name='conv3_3')\n",
    "    pool3 = tf_max_pooling2d(inputs=conv3_3, name='pool_3')\n",
    "    print('conv3_1 \\t', conv3_1.get_shape())\n",
    "    print('conv3_2 \\t', conv3_2.get_shape())\n",
    "    print('conv3_3 \\t', conv3_3.get_shape())\n",
    "    print('pool3 \\t\\t', pool3.get_shape())\n",
    "    print('--------------------------------------------')\n",
    "    \n",
    "    # level four\n",
    "    conv4_1 = tf_conv2d(inputs=pool3, name='conv4_1')\n",
    "    conv4_2 = tf_conv2d(inputs=conv4_1, name='conv4_2')\n",
    "    conv4_3 = tf_conv2d(inputs=conv4_2, name='conv4_3')\n",
    "    pool4 = tf_max_pooling2d(inputs=conv4_3, name='pool_4')\n",
    "    print('conv4_1 \\t', conv4_1.get_shape())\n",
    "    print('conv4_2 \\t', conv4_2.get_shape())\n",
    "    print('conv4_3 \\t', conv4_3.get_shape())\n",
    "    print('pool4 \\t\\t', pool4.get_shape())\n",
    "    print('--------------------------------------------')\n",
    "\n",
    "    # level five\n",
    "    conv5_1 = tf_conv2d(inputs=pool4, name='conv5_1')\n",
    "    conv5_2 = tf_conv2d(inputs=conv5_1, name='conv5_2')\n",
    "    conv5_3 = tf_conv2d(inputs=conv5_2, name='conv5_3')\n",
    "    pool5 = tf_max_pooling2d(inputs=conv5_3, name='pool_5')\n",
    "    print('conv5_1 \\t', conv5_1.get_shape())\n",
    "    print('conv5_2 \\t', conv5_2.get_shape())\n",
    "    print('conv5_3 \\t', conv5_3.get_shape())\n",
    "    print('pool5 \\t\\t', pool5.get_shape())\n",
    "    print('--------------------------------------------')\n",
    "\n",
    "    # level six\n",
    "    fc6 = tf_fully_con(inputs=pool5, name='fc6', shape=[int(np.prod(pool5.get_shape()[1:])), 4096])\n",
    "    fc6_dropout = tf.layers.dropout(inputs=fc6, name='fc6_dropout', rate=0.5)\n",
    "\n",
    "    # level seven\n",
    "    fc7 = tf_fully_con(inputs=fc6_dropout, name='fc7', shape=[4096, 4096])\n",
    "    fc7_dropout = tf.layers.dropout(inputs=fc7, name='fc7_dropout', rate=0.5)\n",
    "\n",
    "    # level eigth\n",
    "    fc8 = tf_fully_con(inputs=fc7_dropout, name='fc7', shape=[4096, NUM_CLASSES])\n",
    "    #fc8 = tf_fully_con(inputs=fc7_dropout, name='fc7', shape=[4096, 1000])\n",
    "    \n",
    "    print('fc6 \\t', fc6.get_shape())\n",
    "    print('fc7 \\t', fc7.get_shape())\n",
    "    print('fc8 \\t', fc8.get_shape()) \n",
    "    print('--------------------------------------------')\n",
    "\n",
    "\n",
    "    \n",
    "with tf.variable_scope('output_layer'):    \n",
    "    l_out = tf.nn.softmax(fc8, name='l_out')\n",
    "    print('out \\t', l_out.get_shape())\n",
    "    print('--------------------------------------------')\n",
    "    \n",
    "print('Model consits of ', utils_DL.num_params(), 'trainable parameters.')\n",
    "## print all the variable names and shapes\n",
    "#for var in tf.global_variables ():\n",
    "#    s = var.name + \" \"*(40-len(var.name))\n",
    "#    print(s, var.value().get_shape())"
   ]
  },
  {
   "cell_type": "markdown",
   "metadata": {},
   "source": [
    "### OPTIMISATION"
   ]
  },
  {
   "cell_type": "code",
   "execution_count": 9,
   "metadata": {
    "collapsed": true,
    "scrolled": false
   },
   "outputs": [],
   "source": [
    "with tf.variable_scope('loss_function'):\n",
    "    # computing cross entropy per sample\n",
    "    cross_entropy = -tf.reduce_sum(y_pl * tf.log(l_out + EPS), axis=[1])\n",
    "    # averaging over samples\n",
    "    cross_entropy = tf.reduce_mean(cross_entropy)\n",
    "\n",
    "with tf.variable_scope('training'):\n",
    "    # defining our optimizer\n",
    "    optimizer = tf.train.AdamOptimizer(learning_rate=L_RATE)\n",
    "    # applying the gradients\n",
    "    #train_op = optimizer.minimize(cross_entropy, global_step=global_step)\n",
    "    train_op = optimizer.minimize(cross_entropy)\n",
    "    \n",
    "with tf.variable_scope('performance'):\n",
    "    # making a one-hot encoded vector of correct (1) and incorrect (0) predictions\n",
    "    correct_prediction = tf.equal(tf.argmax(l_out, axis=1), tf.argmax(y_pl, axis=1))\n",
    "    # averaging the one-hot encoded vector\n",
    "    accuracy = tf.reduce_mean(tf.cast(correct_prediction, tf.float32))"
   ]
  },
  {
   "cell_type": "markdown",
   "metadata": {},
   "source": [
    "### Test flow for model"
   ]
  },
  {
   "cell_type": "code",
   "execution_count": 13,
   "metadata": {
    "collapsed": true
   },
   "outputs": [],
   "source": [
    "## Launch TensorBoard, and visualize the TF graph\n",
    "gpu_opts = tf.GPUOptions(per_process_gpu_memory_fraction=0.20)\n",
    "\n",
    "with tf.Session(config=tf.ConfigProto(gpu_options=gpu_opts)) as sess:\n",
    "    writer = tf.summary.FileWriter(logs_path, sess.graph)\n",
    "    # close session\n",
    "    sess.close()\n",
    "# run in terminal\n",
    "# \"\"\"\n",
    "# python -m webbrowser \"http://localhost:6006/\";\n",
    "# tensorboard --logdir='./logs'\n",
    "# \"\"\""
   ]
  },
  {
   "cell_type": "code",
   "execution_count": 30,
   "metadata": {},
   "outputs": [
    {
     "ename": "KeyboardInterrupt",
     "evalue": "",
     "output_type": "error",
     "traceback": [
      "\u001b[0;31m---------------------------------------------------------------------------\u001b[0m",
      "\u001b[0;31mKeyboardInterrupt\u001b[0m                         Traceback (most recent call last)",
      "\u001b[0;32m<ipython-input-30-dc31adbb4283>\u001b[0m in \u001b[0;36m<module>\u001b[0;34m()\u001b[0m\n\u001b[1;32m      3\u001b[0m \u001b[0;34m\u001b[0m\u001b[0m\n\u001b[1;32m      4\u001b[0m \u001b[0;32mwith\u001b[0m \u001b[0mtf\u001b[0m\u001b[0;34m.\u001b[0m\u001b[0mSession\u001b[0m\u001b[0;34m(\u001b[0m\u001b[0mconfig\u001b[0m\u001b[0;34m=\u001b[0m\u001b[0mtf\u001b[0m\u001b[0;34m.\u001b[0m\u001b[0mConfigProto\u001b[0m\u001b[0;34m(\u001b[0m\u001b[0mgpu_options\u001b[0m\u001b[0;34m=\u001b[0m\u001b[0mgpu_opts\u001b[0m\u001b[0;34m)\u001b[0m\u001b[0;34m)\u001b[0m \u001b[0;32mas\u001b[0m \u001b[0msess\u001b[0m\u001b[0;34m:\u001b[0m\u001b[0;34m\u001b[0m\u001b[0m\n\u001b[0;32m----> 5\u001b[0;31m     \u001b[0msess\u001b[0m\u001b[0;34m.\u001b[0m\u001b[0mrun\u001b[0m\u001b[0;34m(\u001b[0m\u001b[0mtf\u001b[0m\u001b[0;34m.\u001b[0m\u001b[0mglobal_variables_initializer\u001b[0m\u001b[0;34m(\u001b[0m\u001b[0;34m)\u001b[0m\u001b[0;34m)\u001b[0m\u001b[0;34m\u001b[0m\u001b[0m\n\u001b[0m\u001b[1;32m      6\u001b[0m     \u001b[0my_pred\u001b[0m \u001b[0;34m=\u001b[0m \u001b[0msess\u001b[0m\u001b[0;34m.\u001b[0m\u001b[0mrun\u001b[0m\u001b[0;34m(\u001b[0m\u001b[0mfetches\u001b[0m\u001b[0;34m=\u001b[0m\u001b[0ml_out\u001b[0m\u001b[0;34m,\u001b[0m \u001b[0mfeed_dict\u001b[0m\u001b[0;34m=\u001b[0m\u001b[0;34m{\u001b[0m\u001b[0mx_pl\u001b[0m\u001b[0;34m:\u001b[0m \u001b[0mx_batch\u001b[0m\u001b[0;34m}\u001b[0m\u001b[0;34m)\u001b[0m\u001b[0;34m\u001b[0m\u001b[0m\n\u001b[1;32m      7\u001b[0m \u001b[0;34m\u001b[0m\u001b[0m\n",
      "\u001b[0;32m/usr/local/lib/python3.4/dist-packages/tensorflow/python/client/session.py\u001b[0m in \u001b[0;36mrun\u001b[0;34m(self, fetches, feed_dict, options, run_metadata)\u001b[0m\n\u001b[1;32m    787\u001b[0m     \u001b[0;32mtry\u001b[0m\u001b[0;34m:\u001b[0m\u001b[0;34m\u001b[0m\u001b[0m\n\u001b[1;32m    788\u001b[0m       result = self._run(None, fetches, feed_dict, options_ptr,\n\u001b[0;32m--> 789\u001b[0;31m                          run_metadata_ptr)\n\u001b[0m\u001b[1;32m    790\u001b[0m       \u001b[0;32mif\u001b[0m \u001b[0mrun_metadata\u001b[0m\u001b[0;34m:\u001b[0m\u001b[0;34m\u001b[0m\u001b[0m\n\u001b[1;32m    791\u001b[0m         \u001b[0mproto_data\u001b[0m \u001b[0;34m=\u001b[0m \u001b[0mtf_session\u001b[0m\u001b[0;34m.\u001b[0m\u001b[0mTF_GetBuffer\u001b[0m\u001b[0;34m(\u001b[0m\u001b[0mrun_metadata_ptr\u001b[0m\u001b[0;34m)\u001b[0m\u001b[0;34m\u001b[0m\u001b[0m\n",
      "\u001b[0;32m/usr/local/lib/python3.4/dist-packages/tensorflow/python/client/session.py\u001b[0m in \u001b[0;36m_run\u001b[0;34m(self, handle, fetches, feed_dict, options, run_metadata)\u001b[0m\n\u001b[1;32m    995\u001b[0m     \u001b[0;32mif\u001b[0m \u001b[0mfinal_fetches\u001b[0m \u001b[0;32mor\u001b[0m \u001b[0mfinal_targets\u001b[0m\u001b[0;34m:\u001b[0m\u001b[0;34m\u001b[0m\u001b[0m\n\u001b[1;32m    996\u001b[0m       results = self._do_run(handle, final_targets, final_fetches,\n\u001b[0;32m--> 997\u001b[0;31m                              feed_dict_string, options, run_metadata)\n\u001b[0m\u001b[1;32m    998\u001b[0m     \u001b[0;32melse\u001b[0m\u001b[0;34m:\u001b[0m\u001b[0;34m\u001b[0m\u001b[0m\n\u001b[1;32m    999\u001b[0m       \u001b[0mresults\u001b[0m \u001b[0;34m=\u001b[0m \u001b[0;34m[\u001b[0m\u001b[0;34m]\u001b[0m\u001b[0;34m\u001b[0m\u001b[0m\n",
      "\u001b[0;32m/usr/local/lib/python3.4/dist-packages/tensorflow/python/client/session.py\u001b[0m in \u001b[0;36m_do_run\u001b[0;34m(self, handle, target_list, fetch_list, feed_dict, options, run_metadata)\u001b[0m\n\u001b[1;32m   1130\u001b[0m     \u001b[0;32mif\u001b[0m \u001b[0mhandle\u001b[0m \u001b[0;32mis\u001b[0m \u001b[0;32mNone\u001b[0m\u001b[0;34m:\u001b[0m\u001b[0;34m\u001b[0m\u001b[0m\n\u001b[1;32m   1131\u001b[0m       return self._do_call(_run_fn, self._session, feed_dict, fetch_list,\n\u001b[0;32m-> 1132\u001b[0;31m                            target_list, options, run_metadata)\n\u001b[0m\u001b[1;32m   1133\u001b[0m     \u001b[0;32melse\u001b[0m\u001b[0;34m:\u001b[0m\u001b[0;34m\u001b[0m\u001b[0m\n\u001b[1;32m   1134\u001b[0m       return self._do_call(_prun_fn, self._session, handle, feed_dict,\n",
      "\u001b[0;32m/usr/local/lib/python3.4/dist-packages/tensorflow/python/client/session.py\u001b[0m in \u001b[0;36m_do_call\u001b[0;34m(self, fn, *args)\u001b[0m\n\u001b[1;32m   1137\u001b[0m   \u001b[0;32mdef\u001b[0m \u001b[0m_do_call\u001b[0m\u001b[0;34m(\u001b[0m\u001b[0mself\u001b[0m\u001b[0;34m,\u001b[0m \u001b[0mfn\u001b[0m\u001b[0;34m,\u001b[0m \u001b[0;34m*\u001b[0m\u001b[0margs\u001b[0m\u001b[0;34m)\u001b[0m\u001b[0;34m:\u001b[0m\u001b[0;34m\u001b[0m\u001b[0m\n\u001b[1;32m   1138\u001b[0m     \u001b[0;32mtry\u001b[0m\u001b[0;34m:\u001b[0m\u001b[0;34m\u001b[0m\u001b[0m\n\u001b[0;32m-> 1139\u001b[0;31m       \u001b[0;32mreturn\u001b[0m \u001b[0mfn\u001b[0m\u001b[0;34m(\u001b[0m\u001b[0;34m*\u001b[0m\u001b[0margs\u001b[0m\u001b[0;34m)\u001b[0m\u001b[0;34m\u001b[0m\u001b[0m\n\u001b[0m\u001b[1;32m   1140\u001b[0m     \u001b[0;32mexcept\u001b[0m \u001b[0merrors\u001b[0m\u001b[0;34m.\u001b[0m\u001b[0mOpError\u001b[0m \u001b[0;32mas\u001b[0m \u001b[0me\u001b[0m\u001b[0;34m:\u001b[0m\u001b[0;34m\u001b[0m\u001b[0m\n\u001b[1;32m   1141\u001b[0m       \u001b[0mmessage\u001b[0m \u001b[0;34m=\u001b[0m \u001b[0mcompat\u001b[0m\u001b[0;34m.\u001b[0m\u001b[0mas_text\u001b[0m\u001b[0;34m(\u001b[0m\u001b[0me\u001b[0m\u001b[0;34m.\u001b[0m\u001b[0mmessage\u001b[0m\u001b[0;34m)\u001b[0m\u001b[0;34m\u001b[0m\u001b[0m\n",
      "\u001b[0;32m/usr/local/lib/python3.4/dist-packages/tensorflow/python/client/session.py\u001b[0m in \u001b[0;36m_run_fn\u001b[0;34m(session, feed_dict, fetch_list, target_list, options, run_metadata)\u001b[0m\n\u001b[1;32m   1119\u001b[0m         return tf_session.TF_Run(session, options,\n\u001b[1;32m   1120\u001b[0m                                  \u001b[0mfeed_dict\u001b[0m\u001b[0;34m,\u001b[0m \u001b[0mfetch_list\u001b[0m\u001b[0;34m,\u001b[0m \u001b[0mtarget_list\u001b[0m\u001b[0;34m,\u001b[0m\u001b[0;34m\u001b[0m\u001b[0m\n\u001b[0;32m-> 1121\u001b[0;31m                                  status, run_metadata)\n\u001b[0m\u001b[1;32m   1122\u001b[0m \u001b[0;34m\u001b[0m\u001b[0m\n\u001b[1;32m   1123\u001b[0m     \u001b[0;32mdef\u001b[0m \u001b[0m_prun_fn\u001b[0m\u001b[0;34m(\u001b[0m\u001b[0msession\u001b[0m\u001b[0;34m,\u001b[0m \u001b[0mhandle\u001b[0m\u001b[0;34m,\u001b[0m \u001b[0mfeed_dict\u001b[0m\u001b[0;34m,\u001b[0m \u001b[0mfetch_list\u001b[0m\u001b[0;34m)\u001b[0m\u001b[0;34m:\u001b[0m\u001b[0;34m\u001b[0m\u001b[0m\n",
      "\u001b[0;31mKeyboardInterrupt\u001b[0m: "
     ]
    }
   ],
   "source": [
    "# Test the forward pass    \n",
    "x_batch = subjects_list[0][0][0:2]\n",
    "\n",
    "with tf.Session(config=tf.ConfigProto(gpu_options=gpu_opts)) as sess:\n",
    "    sess.run(tf.global_variables_initializer())\n",
    "    y_pred = sess.run(fetches=l_out, feed_dict={x_pl: x_batch})\n",
    "\n",
    "assert y_pred.shape == np.zeros((len(x_batch),NUM_CLASSES)).shape, \"ERROR the output shape is not as expected!\" \\\n",
    "        + \" Output shape should be \" + str(l_out.shape) + ' but was ' + str(y_pred.shape)\n",
    "\n",
    "print('Forward pass successful!')\n",
    "\n",
    "# close session\n",
    "sess.close()"
   ]
  },
  {
   "cell_type": "markdown",
   "metadata": {},
   "source": [
    "## Train the model"
   ]
  },
  {
   "cell_type": "code",
   "execution_count": null,
   "metadata": {
    "collapsed": true
   },
   "outputs": [],
   "source": [
    "# Training Loop\n",
    "MAX_EPOCHS = 2\n",
    "BATCH_SIZE = 50\n",
    "\n",
    "valid_loss, valid_accuracy = [], []\n",
    "train_loss, train_accuracy = [], []\n",
    "test_loss, test_accuracy = [], []\n",
    "\n",
    "# reset counter \n",
    "\n",
    "\n",
    "with tf.Session(config=tf.ConfigProto(gpu_options=gpu_opts)) as sess:\n",
    "    sess.run(tf.global_variables_initializer())\n",
    "    print('Begin training loop... \\n')\n",
    "    try:\n",
    "        loo = LeaveOneOut()\n",
    "        fold = 1\n",
    "        for idx_tmp, idx_test in loo.split(range(NUM_SUBJECTS)):\n",
    "            print(\"Fold num %d\\tSubject id %d\" %(fold, idx_test + 1))\n",
    "            #f = open('outputs/sleep5_fold'+str(fold), 'w').close()\n",
    "            #lasagne.layers.set_all_param_values(l_out,init_par)\n",
    "            #random.shuffle(idx_tmp)\n",
    "\n",
    "            idx_train = idx_tmp[0:VAL_TRAIN_ID]\n",
    "            idx_val = idx_tmp[VAL_TRAIN_ID:(NUM_SUBJECTS - 1)]\n",
    "            \n",
    "            #inputs_train = [subjects_list[i][0] for i in idx_train]\n",
    "            #targets_train = [subjects_list[i][1] for i in idx_train]\n",
    "            \n",
    "            #inputs_val = [subjects_list[i][0] for i in idx_val]\n",
    "            #targets_val = [subjects_list[i][1] for i in idx_val]\n",
    "\n",
    "            # INTO TRAIN \n",
    "            train_data = [subjects_list[i] for i in idx_train]\n",
    "            inputs_train = np.empty((0,224,224,3),dtype='uint8')  \n",
    "            targets_train = np.empty((0,NUM_CLASSES),dtype='uint8') \n",
    "            for item in train_data:\n",
    "                inputs_train = np.concatenate((inputs_train, item[0]),axis=0)\n",
    "                targets_train = np.concatenate((targets_train, item[1]),axis=0)\n",
    "            \n",
    "            # INTO VALIDATION\n",
    "            val_data = [subjects_list[i] for i in idx_val]\n",
    "            inputs_val = np.empty((0,224,224,3),dtype='uint8')  \n",
    "            targets_val = np.empty((0,NUM_CLASSES),dtype='uint8')\n",
    "            for item in val_data:\n",
    "                inputs_val = np.concatenate((inputs_val, item[0]),axis=0)\n",
    "                targets_val = np.concatenate((targets_val, item[1]),axis=0)\n",
    "\n",
    "            # INTO TEST\n",
    "            test_data = [subjects_list[i] for i in idx_test]\n",
    "            inputs_test = np.empty((0,224,224,3), dtype='uint8')  \n",
    "            targets_test = np.empty((0,NUM_CLASSES), dtype='uint8')\n",
    "            for item in test_data:\n",
    "                inputs_test = np.concatenate((inputs_test,item[0]), axis=0)\n",
    "                targets_test = np.concatenate((targets_test,item[1]), axis=0) \n",
    "                \n",
    "            # L\n",
    "            best_loss = float('inf')\n",
    "            for epoch in range(MAX_EPOCHS):\n",
    "                print('\\tEpoch: ' + str(epoch + 1) + ' of ' + str(MAX_EPOCHS))\n",
    "                \n",
    "                # loop mini batches\n",
    "                num_batch = 0\n",
    "                for x_batch, y_batch in utils.iterate_minibatches(batchsize=BATCH_SIZE, \n",
    "                                                                  inputs=inputs_train, \n",
    "                                                                  targets=targets_train, shuffle=False):\n",
    "   \n",
    "                    num_batch += 1\n",
    "                    fetches_train = [train_op, cross_entropy, accuracy]\n",
    "                    feed_dict_train = {x_pl: x_batch, y_pl: y_batch}\n",
    "                    _, _loss, _acc = sess.run(fetches_train, feed_dict_train)\n",
    "                    print(\"\\t\\tEp: %d\\t L: %f\\t ACCs: %f\" %(epoch + 1, _loss, _acc))\n",
    "                    \n",
    "                # append to epoch\n",
    "                _train_loss.append(_loss)\n",
    "                _train_accuracy.append(_acc)\n",
    "                \n",
    "                \n",
    "                \n",
    "                \n",
    "                \n",
    "                \n",
    "            # increase fold\n",
    "            fold += 1\n",
    "            print('\\n... end training loop')\n",
    "            break\n",
    "    except KeyboardInterrupt:\n",
    "        pass"
   ]
  },
  {
   "cell_type": "code",
   "execution_count": null,
   "metadata": {
    "collapsed": true
   },
   "outputs": [],
   "source": [
    "           \n",
    "            \n",
    "            ## Run train op\n",
    "            x_batch, y_batch = mnist_data.train.next_batch(batch_size)\n",
    "            fetches_train = [train_op, cross_entropy, accuracy]\n",
    "            feed_dict_train = {x_pl: x_batch, y_pl: y_batch}\n",
    "            _, _loss, _acc = sess.run(fetches_train, feed_dict_train)\n",
    "            \n",
    "            _train_loss.append(_loss)\n",
    "            _train_accuracy.append(_acc)\n",
    "            \n",
    "\n",
    "            ## Compute validation loss and accuracy\n",
    "            if mnist_data.train.epochs_completed % 1 == 0 \\\n",
    "                    and mnist_data.train._index_in_epoch <= batch_size:\n",
    "                train_loss.append(np.mean(_train_loss))\n",
    "                train_accuracy.append(np.mean(_train_accuracy))\n",
    "\n",
    "                fetches_valid = [cross_entropy, accuracy]\n",
    "                \n",
    "                feed_dict_valid = {x_pl: mnist_data.validation.images, y_pl: mnist_data.validation.labels}\n",
    "                _loss, _acc = sess.run(fetches_valid, feed_dict_valid)\n",
    "                \n",
    "                valid_loss.append(_loss)\n",
    "                valid_accuracy.append(_acc)\n",
    "                print(\"Epoch {} : Train Loss {:6.3f}, Train acc {:6.3f},  Valid loss {:6.3f},  Valid acc {:6.3f}\".format(\n",
    "                    mnist_data.train.epochs_completed, train_loss[-1], train_accuracy[-1], valid_loss[-1], valid_accuracy[-1]))\n",
    "        \n",
    "        \n",
    "        test_epoch = mnist_data.test.epochs_completed\n",
    "        while mnist_data.test.epochs_completed == test_epoch:\n",
    "            x_batch, y_batch = mnist_data.test.next_batch(batch_size)\n",
    "            feed_dict_test = {x_pl: x_batch, y_pl: y_batch}\n",
    "            _loss, _acc = sess.run(fetches_valid, feed_dict_test)\n",
    "            test_loss.append(_loss)\n",
    "            test_accuracy.append(_acc)\n",
    "        print('Test Loss {:6.3f}, Test acc {:6.3f}'.format(\n",
    "                    np.mean(test_loss), np.mean(test_accuracy)))\n",
    "\n",
    "\n",
    "    except KeyboardInterrupt:\n",
    "        pass\n",
    "    \n",
    "#epoch = np.arange(len(train_loss))\n",
    "#plt.figure()\n",
    "#plt.plot(epoch, train_accuracy,'r', epoch, valid_accuracy,'b')\n",
    "#plt.legend(['Train Acc','Validation Acc'])\n",
    "#plt.xlabel('Epochs')\n",
    "#plt.ylabel('Accuracy')\n",
    "#plt.ylim([0.75,1.03])\n",
    "#plt.show()"
   ]
  },
  {
   "cell_type": "code",
   "execution_count": null,
   "metadata": {
    "collapsed": true
   },
   "outputs": [],
   "source": []
  },
  {
   "cell_type": "code",
   "execution_count": null,
   "metadata": {
    "collapsed": true
   },
   "outputs": [],
   "source": []
  },
  {
   "cell_type": "code",
   "execution_count": null,
   "metadata": {
    "collapsed": true
   },
   "outputs": [],
   "source": []
  },
  {
   "cell_type": "code",
   "execution_count": null,
   "metadata": {
    "collapsed": true
   },
   "outputs": [],
   "source": []
  },
  {
   "cell_type": "code",
   "execution_count": null,
   "metadata": {
    "collapsed": true
   },
   "outputs": [],
   "source": []
  },
  {
   "cell_type": "code",
   "execution_count": null,
   "metadata": {
    "collapsed": true
   },
   "outputs": [],
   "source": []
  },
  {
   "cell_type": "code",
   "execution_count": null,
   "metadata": {
    "collapsed": true
   },
   "outputs": [],
   "source": []
  },
  {
   "cell_type": "code",
   "execution_count": null,
   "metadata": {
    "collapsed": true
   },
   "outputs": [],
   "source": []
  },
  {
   "cell_type": "markdown",
   "metadata": {
    "collapsed": true
   },
   "source": [
    "## Save model"
   ]
  },
  {
   "cell_type": "code",
   "execution_count": null,
   "metadata": {
    "collapsed": true
   },
   "outputs": [],
   "source": [
    "# Save model\n",
    "save_path = tf.train.Saver().save(sess, './models/' + 'model_v' + VERSION + '_' + time.strftime('%D_%H:%M:%S') + '.ckpt')\n",
    "print(\"Model saved in file: %s\" % save_path)\n",
    "\n",
    "# Close the session, and free the resources\n",
    "#sess.close()"
   ]
  },
  {
   "cell_type": "code",
   "execution_count": null,
   "metadata": {
    "collapsed": true
   },
   "outputs": [],
   "source": []
  },
  {
   "cell_type": "code",
   "execution_count": null,
   "metadata": {
    "collapsed": true
   },
   "outputs": [],
   "source": [
    "'./models/' + 'model_v' + VERSION + '_' + time.strftime('%D_%H:%M:%S') + '.ckpt'"
   ]
  },
  {
   "cell_type": "code",
   "execution_count": null,
   "metadata": {
    "collapsed": true
   },
   "outputs": [],
   "source": []
  },
  {
   "cell_type": "code",
   "execution_count": null,
   "metadata": {
    "collapsed": true
   },
   "outputs": [],
   "source": []
  },
  {
   "cell_type": "code",
   "execution_count": null,
   "metadata": {
    "collapsed": true
   },
   "outputs": [],
   "source": []
  },
  {
   "cell_type": "code",
   "execution_count": null,
   "metadata": {
    "collapsed": true
   },
   "outputs": [],
   "source": []
  },
  {
   "cell_type": "code",
   "execution_count": null,
   "metadata": {
    "collapsed": true
   },
   "outputs": [],
   "source": []
  },
  {
   "cell_type": "code",
   "execution_count": null,
   "metadata": {
    "collapsed": true
   },
   "outputs": [],
   "source": []
  },
  {
   "cell_type": "code",
   "execution_count": null,
   "metadata": {
    "collapsed": true
   },
   "outputs": [],
   "source": []
  },
  {
   "cell_type": "code",
   "execution_count": null,
   "metadata": {
    "collapsed": true
   },
   "outputs": [],
   "source": []
  },
  {
   "cell_type": "code",
   "execution_count": null,
   "metadata": {
    "collapsed": true
   },
   "outputs": [],
   "source": []
  },
  {
   "cell_type": "code",
   "execution_count": null,
   "metadata": {
    "collapsed": true
   },
   "outputs": [],
   "source": []
  },
  {
   "cell_type": "code",
   "execution_count": null,
   "metadata": {
    "collapsed": true
   },
   "outputs": [],
   "source": []
  },
  {
   "cell_type": "code",
   "execution_count": null,
   "metadata": {
    "collapsed": true
   },
   "outputs": [],
   "source": []
  },
  {
   "cell_type": "code",
   "execution_count": null,
   "metadata": {
    "collapsed": true
   },
   "outputs": [],
   "source": []
  },
  {
   "cell_type": "code",
   "execution_count": null,
   "metadata": {
    "collapsed": true
   },
   "outputs": [],
   "source": []
  },
  {
   "cell_type": "code",
   "execution_count": null,
   "metadata": {
    "collapsed": true
   },
   "outputs": [],
   "source": []
  },
  {
   "cell_type": "code",
   "execution_count": null,
   "metadata": {
    "collapsed": true
   },
   "outputs": [],
   "source": []
  },
  {
   "cell_type": "code",
   "execution_count": null,
   "metadata": {
    "collapsed": true
   },
   "outputs": [],
   "source": []
  },
  {
   "cell_type": "code",
   "execution_count": null,
   "metadata": {
    "collapsed": true
   },
   "outputs": [],
   "source": []
  },
  {
   "cell_type": "code",
   "execution_count": null,
   "metadata": {
    "collapsed": true
   },
   "outputs": [],
   "source": []
  },
  {
   "cell_type": "code",
   "execution_count": null,
   "metadata": {
    "collapsed": true
   },
   "outputs": [],
   "source": []
  },
  {
   "cell_type": "code",
   "execution_count": null,
   "metadata": {
    "collapsed": true
   },
   "outputs": [],
   "source": []
  },
  {
   "cell_type": "code",
   "execution_count": null,
   "metadata": {
    "collapsed": true
   },
   "outputs": [],
   "source": []
  },
  {
   "cell_type": "code",
   "execution_count": null,
   "metadata": {
    "collapsed": true
   },
   "outputs": [],
   "source": []
  },
  {
   "cell_type": "code",
   "execution_count": null,
   "metadata": {
    "collapsed": true
   },
   "outputs": [],
   "source": []
  },
  {
   "cell_type": "code",
   "execution_count": null,
   "metadata": {
    "collapsed": true
   },
   "outputs": [],
   "source": []
  }
 ],
 "metadata": {
  "kernelspec": {
   "display_name": "Python 3",
   "language": "python",
   "name": "python3"
  },
  "language_info": {
   "codemirror_mode": {
    "name": "ipython",
    "version": 3
   },
   "file_extension": ".py",
   "mimetype": "text/x-python",
   "name": "python",
   "nbconvert_exporter": "python",
   "pygments_lexer": "ipython3",
   "version": "3.4.3"
  }
 },
 "nbformat": 4,
 "nbformat_minor": 2
}
