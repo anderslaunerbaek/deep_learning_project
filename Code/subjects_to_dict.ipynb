{
 "cells": [
  {
   "cell_type": "code",
   "execution_count": 3,
   "metadata": {
    "collapsed": true
   },
   "outputs": [],
   "source": []
  },
  {
   "cell_type": "code",
   "execution_count": 57,
   "metadata": {
    "collapsed": false
   },
   "outputs": [
    {
     "name": "stdout",
     "output_type": "stream",
     "text": [
      "Saving subject 19 of 20....\r"
     ]
    }
   ],
   "source": [
    "# -*- coding: utf-8 -*-\n",
    "\"\"\"\n",
    "Created on Tue Nov 21 16:24:01 2017\n",
    "\n",
    "@author: s160159\n",
    "\"\"\"\n",
    "\n",
    "## import ----\n",
    "\n",
    "import os\n",
    "import re\n",
    "import sys\n",
    "import time\n",
    "import collections\n",
    "\n",
    "sys.path.append(os.path.join('.', '..')) \n",
    "import utils\n",
    "import utils_s160159 as u_s\n",
    "\n",
    "import matplotlib.pyplot as plt\n",
    "import numpy as np\n",
    "import tensorflow as tf\n",
    "\n",
    "from sklearn.model_selection import LeaveOneOut, KFold\n",
    "from sklearn.metrics import confusion_matrix\n",
    "\n",
    "## load data ----\n",
    "VERSION = '2.0'\n",
    "FILENAME = 'master'\n",
    "data_dir = './../Data'\n",
    "logs_path = './logs'\n",
    "NUM_SUBJECTS = 20\n",
    "NUM_CLASSES = 6\n",
    "VAL_TRAIN_ID = NUM_SUBJECTS - 4\n",
    "\n",
    "stats = {}\n",
    "stats['single'] = {}\n",
    "stats['one_hot'] = {}\n",
    "\n",
    "# load all subjects into memory\n",
    "subjects_dict = {}\n",
    "for i in range(1,NUM_SUBJECTS+1):\n",
    "    print(\"Loading subject %d of %d...\" %(i, NUM_SUBJECTS), end='\\r')\n",
    "    inputs_night1, _, targets_night1  = u_s.load_spectrograms(data_path=data_dir, \n",
    "                                                              subject_id=i, \n",
    "                                                              night_id=1,\n",
    "                                                              no_class=NUM_CLASSES)\n",
    "    if i!=20:\n",
    "        inputs_night2, _, targets_night2  = u_s.load_spectrograms(data_path=data_dir, \n",
    "                                                                  subject_id=i, \n",
    "                                                                  night_id=2,\n",
    "                                                                  no_class=NUM_CLASSES)\n",
    "    else:\n",
    "        inputs_night2 = np.empty((0,224,224,3),dtype='uint8')\n",
    "        targets_night2_1 = np.empty((0,),dtype='uint8')           \n",
    "    \n",
    "    current_inputs = np.concatenate((inputs_night1,inputs_night2),axis=0)\n",
    "    current_targets = np.concatenate((targets_night1, targets_night2),axis=0)    \n",
    "    \n",
    "    subjects_dict[i-1] = {}\n",
    "    subjects_dict[i-1][0] = current_inputs\n",
    "    subjects_dict[i-1][1] = current_targets\n",
    "\n",
    "# Save\n",
    "for ii in subjects_dict.keys():\n",
    "    print(\"Saving subject %d of %d...\" %(ii+1, np.max(list(subjects_dict.keys()))+1), end='\\r')\n",
    "    np.save(data_dir + '_dicts' + '/subject_' + str(ii+1) + '_dict', dict(subjects_dict[ii]))\n",
    "    \n",
    "#\n",
    "print(dict(collections.Counter(subjects_dict[0][1])))"
   ]
  },
  {
   "cell_type": "code",
   "execution_count": 3,
   "metadata": {
    "collapsed": false
   },
   "outputs": [
    {
     "name": "stdout",
     "output_type": "stream",
     "text": [
      "Loading subject 20 of 20...\r"
     ]
    }
   ],
   "source": [
    "# -*- coding: utf-8 -*-\n",
    "\"\"\"\n",
    "Created on Tue Nov 21 16:24:01 2017\n",
    "\n",
    "@author: s160159\n",
    "\"\"\"\n",
    "\n",
    "## import ----\n",
    "\n",
    "import os\n",
    "import re\n",
    "import sys\n",
    "import time\n",
    "import collections\n",
    "\n",
    "sys.path.append(os.path.join('.', '..')) \n",
    "import utils\n",
    "import utils_s160159 as u_s\n",
    "\n",
    "import matplotlib.pyplot as plt\n",
    "import numpy as np\n",
    "import tensorflow as tf\n",
    "\n",
    "from sklearn.model_selection import LeaveOneOut, KFold\n",
    "from sklearn.metrics import confusion_matrix\n",
    "\n",
    "## load data ----\n",
    "VERSION = '2.0'\n",
    "FILENAME = 'master'\n",
    "data_dir = './../Data'\n",
    "logs_path = './logs'\n",
    "NUM_SUBJECTS = 20\n",
    "NUM_CLASSES = 6\n",
    "VAL_TRAIN_ID = NUM_SUBJECTS - 4\n",
    "\n",
    "# load all subjects into memory\n",
    "subjects_list = []\n",
    "## Load\n",
    "for ii in range(1,NUM_SUBJECTS+1):\n",
    "    print(\"Loading subject %d of %d...\" %(ii, NUM_SUBJECTS), end='\\r')\n",
    "    tmp = np.load(data_dir + '_dicts' + '/subject_' + str(ii) + '_dict.npy').item()\n",
    "    \n",
    "    tmp_one = np.zeros((len(tmp[1]),NUM_CLASSES))\n",
    "    #tmp_one[:] = -1\n",
    "    for jj in range(len(tmp[1])):\n",
    "        tmp_one[jj][tmp[1][jj]] = 1\n",
    "    \n",
    "    subjects_list.append([tmp[0], tmp_one])"
   ]
  },
  {
   "cell_type": "code",
   "execution_count": 5,
   "metadata": {
    "collapsed": false
   },
   "outputs": [
    {
     "data": {
      "text/plain": [
       "(1810, 6)"
      ]
     },
     "execution_count": 5,
     "metadata": {},
     "output_type": "execute_result"
    }
   ],
   "source": [
    "subjects_list[0][1].shape"
   ]
  },
  {
   "cell_type": "code",
   "execution_count": 6,
   "metadata": {
    "collapsed": false
   },
   "outputs": [
    {
     "data": {
      "text/plain": [
       "array([0, 0, 0, ..., 0, 0, 0], dtype=uint8)"
      ]
     },
     "execution_count": 6,
     "metadata": {},
     "output_type": "execute_result"
    }
   ],
   "source": [
    "tmp[1]"
   ]
  },
  {
   "cell_type": "code",
   "execution_count": null,
   "metadata": {
    "collapsed": true
   },
   "outputs": [],
   "source": []
  }
 ],
 "metadata": {
  "kernelspec": {
   "display_name": "Python 3",
   "language": "python",
   "name": "python3"
  },
  "language_info": {
   "codemirror_mode": {
    "name": "ipython",
    "version": 3
   },
   "file_extension": ".py",
   "mimetype": "text/x-python",
   "name": "python",
   "nbconvert_exporter": "python",
   "pygments_lexer": "ipython3",
   "version": "3.6.0"
  }
 },
 "nbformat": 4,
 "nbformat_minor": 2
}
