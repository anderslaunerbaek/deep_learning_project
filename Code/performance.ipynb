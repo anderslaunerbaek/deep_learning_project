{
 "cells": [
  {
   "cell_type": "markdown",
   "metadata": {},
   "source": [
    "# Master RNN notebook"
   ]
  },
  {
   "cell_type": "code",
   "execution_count": 1,
   "metadata": {
    "collapsed": true
   },
   "outputs": [],
   "source": [
    "from __future__ import absolute_import, division, print_function \n",
    "#import os\n",
    "#import re\n",
    "#import sys\n",
    "#import time\n",
    "\n",
    "#sys.path.append(os.path.join('.', '..')) \n",
    "#import utils\n",
    "#import utils_DL\n",
    "import utils_s160159 as u_s\n",
    "\n",
    "#import matplotlib.pyplot as plt\n",
    "import numpy as np\n",
    "from sklearn.metrics import confusion_matrix"
   ]
  },
  {
   "cell_type": "code",
   "execution_count": 2,
   "metadata": {
    "collapsed": true
   },
   "outputs": [],
   "source": [
    "# https://machinelearningmastery.com/classification-accuracy-is-not-enough-more-performance-measures-you-can-use/\n",
    "# https://stats.stackexchange.com/questions/51296/how-do-you-calculate-precision-and-recall-for-multiclass-classification-using-co\n",
    "def performance_measure(cm):\n",
    "    TP = np.diag(cm)\n",
    "    FP = np.sum(cm, axis=0) - np.diag(cm)\n",
    "    FN = np.sum(cm,axis=1) - np.diag(cm)\n",
    "    TN = np.sum(cm) - (FP+FN+TP)\n",
    "    \n",
    "    precision = u_s.safe_div(TP, TP + FP)\n",
    "    recall = u_s.safe_div(TP, TP + FN)\n",
    "    F1 = np.multiply(2, u_s.safe_div(np.multiply(precision, recall),\n",
    "                                     np.add(precision, recall)))\n",
    "    \n",
    "    acc = (TP+TN)/(TP+FP+FN+TN)\n",
    "    \n",
    "    #\n",
    "    return TP, FP, precision, recall, F1, acc\n",
    "\n",
    "# http://www.dummies.com/education/science/biology/the-bootstrap-method-for-standard-errors-and-confidence-intervals/\n",
    "def bootstrap_CI(values, n_sim = 100000, p = 0.05):\n",
    "    x_hat_list = []\n",
    "    # create X simulations\n",
    "    for i in range(n_sim):\n",
    "        # draw numbers from distribution\n",
    "        x_hat = np.random.choice(values, \n",
    "                                 size=values.shape[0], \n",
    "                                 replace=True)\n",
    "        # append mean value to list\n",
    "        x_hat_list.append(np.mean(x_hat))\n",
    "    # calculate the SD\n",
    "    sd_hat = np.std(x_hat_list)\n",
    "    mean_hat = np.mean(x_hat_list)\n",
    "    # sort list\n",
    "    x_hat_list = np.sort(x_hat_list)\n",
    "    # remove lower and upper p/2 quantiles\n",
    "    x_hat_list = x_hat_list[int(p/2*n_sim):int(n_sim-p/2*n_sim)]\n",
    "    \n",
    "    # calculate CI\n",
    "    ci_l = mean_hat-sd_hat*(np.max(x_hat_list)-np.min(x_hat_list))\n",
    "    ci_u = mean_hat+sd_hat*(np.max(x_hat_list)-np.min(x_hat_list))\n",
    "    return(ci_l, mean_hat, ci_u)\n",
    "\n",
    "\n",
    "def array_to_latex(tbl):\n",
    "    for ii in range(tbl.shape[0]):\n",
    "        tmp_str = ''\n",
    "        for jj in range(tbl.shape[1]):\n",
    "            if jj != 0:\n",
    "                tmp_str += ' & ' + \"{:.0f}\".format(tbl[ii,jj])  \n",
    "            else:\n",
    "                tmp_str += \"{:.0f}\".format(tbl[ii,jj]) \n",
    "\n",
    "        tmp_str += ' \\\\\\\\ '\n",
    "        print(tmp_str)"
   ]
  },
  {
   "cell_type": "markdown",
   "metadata": {},
   "source": [
    "## Load data"
   ]
  },
  {
   "cell_type": "code",
   "execution_count": 3,
   "metadata": {
    "collapsed": true
   },
   "outputs": [],
   "source": [
    "data_dir = './../Data'\n",
    "NUM_SUBJECTS = 6\n",
    "NUM_CLASSES = 6\n",
    "VAL_TRAIN_ID = NUM_SUBJECTS - 4\n",
    "# Training Loop\n",
    "MAX_EPOCHS = 1 # 50\n",
    "BATCH_SIZE = 25 # 30 works on AWS "
   ]
  },
  {
   "cell_type": "code",
   "execution_count": 4,
   "metadata": {
    "collapsed": false
   },
   "outputs": [],
   "source": [
    "cm = 'cm_val'\n",
    "cap_master = dict(np.load('./../Code/models/master/Version_4.0/capture_dict.npz'))['arr_0'].tolist()[1]\n",
    "cap_rnn = dict(np.load('./../Code/models/rnn/Version_4.0/capture_dict.npz'))['arr_0'].tolist()[1]\n",
    "cm_master = cap_master[cm]\n",
    "cm_rnn = cap_rnn[cm]\n",
    "cm_master_norm = cm_master / cm_master.astype(np.float).sum(axis=1, keepdims=True) * 100\n",
    "cm_rnn_norm = cm_rnn / cm_rnn.astype(np.float).sum(axis=1, keepdims=True) * 100"
   ]
  },
  {
   "cell_type": "markdown",
   "metadata": {},
   "source": [
    "### Table 1"
   ]
  },
  {
   "cell_type": "code",
   "execution_count": 5,
   "metadata": {
    "collapsed": false
   },
   "outputs": [
    {
     "name": "stdout",
     "output_type": "stream",
     "text": [
      "--------------------------------------------\n",
      "Average for all classes\n",
      "Precision: 0.678847\n",
      "Recall:    0.713575\n",
      "F1:        0.687712\n"
     ]
    }
   ],
   "source": [
    "table_res_1 = np.zeros((12,16))\n",
    "TP, FP, precision, recall, F1, Acc = performance_measure(cm_master)\n",
    "print('--------------------------------------------')\n",
    "print('Average for all classes')\n",
    "print('Precision: %f' %(np.mean(precision)))\n",
    "print('Recall:    %f' %(np.mean(recall)))\n",
    "print('F1:        %f' %(np.mean(F1)))\n",
    "\n",
    "table_res_1[0:6,0:6] = cm_master\n",
    "table_res_1[0:6,6:12] = cm_master_norm\n",
    "table_res_1[0:6,12] = precision * 100\n",
    "table_res_1[0:6,13] = recall * 100\n",
    "table_res_1[0:6,14] = F1 * 100\n",
    "table_res_1[0:6,15] = Acc * 100"
   ]
  },
  {
   "cell_type": "code",
   "execution_count": 6,
   "metadata": {
    "collapsed": false
   },
   "outputs": [
    {
     "name": "stdout",
     "output_type": "stream",
     "text": [
      "--------------------------------------------\n",
      "Average for all classes\n",
      "Precision: 0.645518\n",
      "Recall:    0.659172\n",
      "F1:        0.641919\n"
     ]
    }
   ],
   "source": [
    "TP, FP, precision, recall, F1, Acc = performance_measure(cm_rnn)\n",
    "print('--------------------------------------------')\n",
    "print('Average for all classes')\n",
    "print('Precision: %f' %(np.mean(precision)))\n",
    "print('Recall:    %f' %(np.mean(recall)))\n",
    "print('F1:        %f' %(np.mean(F1)))\n",
    "\n",
    "table_res_1[6:12,0:6] = cm_rnn\n",
    "table_res_1[6:12,6:12] = cm_rnn_norm\n",
    "table_res_1[6:12,12] = precision * 100\n",
    "table_res_1[6:12,13] = recall * 100\n",
    "table_res_1[6:12,14] = F1 * 100\n",
    "table_res_1[6:12,15] = Acc * 100\n"
   ]
  },
  {
   "cell_type": "code",
   "execution_count": 7,
   "metadata": {
    "collapsed": false
   },
   "outputs": [
    {
     "name": "stdout",
     "output_type": "stream",
     "text": [
      "495 & 145 & 29 & 11 & 1 & 20 & 71 & 21 & 4 & 2 & 0 & 3 & 91 & 71 & 80 & 93 \\\\ \n",
      "25 & 211 & 43 & 0 & 0 & 62 & 7 & 62 & 13 & 0 & 0 & 18 & 43 & 62 & 51 & 89 \\\\ \n",
      "4 & 51 & 1313 & 104 & 17 & 68 & 0 & 3 & 84 & 7 & 1 & 4 & 91 & 84 & 88 & 90 \\\\ \n",
      "0 & 2 & 11 & 164 & 64 & 0 & 0 & 1 & 5 & 68 & 27 & 0 & 49 & 68 & 57 & 93 \\\\ \n",
      "0 & 0 & 0 & 54 & 91 & 0 & 0 & 0 & 0 & 37 & 63 & 0 & 53 & 63 & 57 & 96 \\\\ \n",
      "17 & 80 & 46 & 0 & 0 & 591 & 2 & 11 & 6 & 0 & 0 & 81 & 80 & 81 & 80 & 92 \\\\ \n",
      "578 & 39 & 26 & 7 & 1 & 43 & 83 & 6 & 4 & 1 & 0 & 6 & 89 & 83 & 86 & 95 \\\\ \n",
      "38 & 107 & 64 & 0 & 0 & 132 & 11 & 31 & 19 & 0 & 0 & 39 & 55 & 31 & 40 & 91 \\\\ \n",
      "8 & 13 & 1314 & 102 & 28 & 92 & 1 & 1 & 84 & 7 & 2 & 6 & 90 & 84 & 87 & 89 \\\\ \n",
      "3 & 0 & 18 & 125 & 95 & 0 & 1 & 0 & 7 & 52 & 39 & 0 & 43 & 52 & 47 & 92 \\\\ \n",
      "0 & 0 & 1 & 60 & 84 & 0 & 0 & 0 & 1 & 41 & 58 & 0 & 40 & 58 & 48 & 95 \\\\ \n",
      "19 & 36 & 43 & 0 & 0 & 636 & 3 & 5 & 6 & 0 & 0 & 87 & 70 & 87 & 78 & 90 \\\\ \n"
     ]
    }
   ],
   "source": [
    "array_to_latex(table_res_1)"
   ]
  },
  {
   "cell_type": "code",
   "execution_count": 8,
   "metadata": {
    "collapsed": false
   },
   "outputs": [],
   "source": [
    "master_norm_diag = np.diag(table_res_1[0:6,6:12])\n",
    "rnn_norm_diag = np.diag(table_res_1[6:12,6:12])"
   ]
  },
  {
   "cell_type": "code",
   "execution_count": 9,
   "metadata": {
    "collapsed": false
   },
   "outputs": [
    {
     "name": "stdout",
     "output_type": "stream",
     "text": [
      "61.88 - 71.36 - 84.33\n",
      "31.38 - 65.92 - 86.65\n"
     ]
    }
   ],
   "source": [
    "pp = \"{:.2f}\"\n",
    "tmp_str = ''\n",
    "tmp_str += pp.format(np.min(master_norm_diag)) + ' - ' + \\\n",
    "pp.format(np.mean(master_norm_diag)) + ' - ' + \\\n",
    "pp.format(np.max(master_norm_diag))\n",
    "print(tmp_str)\n",
    "\n",
    "tmp_str = ''\n",
    "tmp_str += pp.format(np.min(rnn_norm_diag)) + ' - ' + \\\n",
    "pp.format(np.mean(rnn_norm_diag)) + ' - ' + \\\n",
    "pp.format(np.max(rnn_norm_diag))\n",
    "print(tmp_str)"
   ]
  },
  {
   "cell_type": "markdown",
   "metadata": {},
   "source": [
    "### Table 2"
   ]
  },
  {
   "cell_type": "code",
   "execution_count": 10,
   "metadata": {
    "collapsed": false
   },
   "outputs": [
    {
     "name": "stdout",
     "output_type": "stream",
     "text": [
      "65.3-\\textbf{67.8}-70.4 & 70.9-\\textbf{71.3}-71.8 & 67.5-\\textbf{68.8}-70.0 & 92.3-\\textbf{92.3}-92.4\\\\\n"
     ]
    }
   ],
   "source": [
    "pp = \"{:.1f}\"\n",
    "_, _, precision, recall, F1, Acc = performance_measure(cm_master)\n",
    "tmp_str = ''\n",
    "tmp = bootstrap_CI(precision)\n",
    "tmp_str += pp.format(tmp[0]*100) + '-\\\\textbf{' + \\\n",
    "pp.format(tmp[1]*100) + '}-' + \\\n",
    "pp.format(tmp[2]*100) + ' & '\n",
    "\n",
    "tmp = bootstrap_CI(recall)\n",
    "tmp_str += pp.format(tmp[0]*100) + '-\\\\textbf{' + \\\n",
    "pp.format(tmp[1]*100) + '}-' + \\\n",
    "pp.format(tmp[2]*100) + ' & '\n",
    "\n",
    "tmp = bootstrap_CI(F1)\n",
    "tmp_str += pp.format(tmp[0]*100) + '-\\\\textbf{' + \\\n",
    "pp.format(tmp[1]*100) + '}-' + \\\n",
    "pp.format(tmp[2]*100) + ' & '\n",
    "\n",
    "tmp = bootstrap_CI(Acc)\n",
    "tmp_str += pp.format(tmp[0]*100) + '-\\\\textbf{' + \\\n",
    "pp.format(tmp[1]*100) + '}-' + \\\n",
    "pp.format(tmp[2]*100) + '\\\\\\\\'\n",
    "print(tmp_str)"
   ]
  },
  {
   "cell_type": "code",
   "execution_count": 11,
   "metadata": {
    "collapsed": false
   },
   "outputs": [
    {
     "name": "stdout",
     "output_type": "stream",
     "text": [
      "61.9-\\textbf{64.5}-67.1 & 63.2-\\textbf{65.9}-68.6 & 61.8-\\textbf{64.2}-66.6 & 92.2-\\textbf{92.2}-92.2\\\\\n"
     ]
    }
   ],
   "source": [
    "_, _, precision, recall, F1, Acc = performance_measure(cm_rnn)\n",
    "tmp_str = ''\n",
    "tmp = bootstrap_CI(precision)\n",
    "tmp_str += pp.format(tmp[0]*100) + '-\\\\textbf{' + \\\n",
    "pp.format(tmp[1]*100) + '}-' + \\\n",
    "pp.format(tmp[2]*100) + ' & '\n",
    "\n",
    "tmp = bootstrap_CI(recall)\n",
    "tmp_str += pp.format(tmp[0]*100) + '-\\\\textbf{' + \\\n",
    "pp.format(tmp[1]*100) + '}-' + \\\n",
    "pp.format(tmp[2]*100) + ' & '\n",
    "\n",
    "tmp = bootstrap_CI(F1)\n",
    "tmp_str += pp.format(tmp[0]*100) + '-\\\\textbf{' + \\\n",
    "pp.format(tmp[1]*100) + '}-' + \\\n",
    "pp.format(tmp[2]*100) + ' & '\n",
    "\n",
    "tmp = bootstrap_CI(Acc)\n",
    "tmp_str += pp.format(tmp[0]*100) + '-\\\\textbf{' + \\\n",
    "pp.format(tmp[1]*100) + '}-' + \\\n",
    "pp.format(tmp[2]*100) + '\\\\\\\\'\n",
    "print(tmp_str)"
   ]
  },
  {
   "cell_type": "code",
   "execution_count": null,
   "metadata": {
    "collapsed": false
   },
   "outputs": [],
   "source": []
  },
  {
   "cell_type": "code",
   "execution_count": null,
   "metadata": {
    "collapsed": false
   },
   "outputs": [],
   "source": []
  },
  {
   "cell_type": "code",
   "execution_count": null,
   "metadata": {
    "collapsed": false
   },
   "outputs": [],
   "source": []
  },
  {
   "cell_type": "code",
   "execution_count": null,
   "metadata": {
    "collapsed": false
   },
   "outputs": [],
   "source": []
  },
  {
   "cell_type": "code",
   "execution_count": null,
   "metadata": {
    "collapsed": false
   },
   "outputs": [],
   "source": []
  },
  {
   "cell_type": "code",
   "execution_count": null,
   "metadata": {
    "collapsed": false
   },
   "outputs": [],
   "source": []
  },
  {
   "cell_type": "code",
   "execution_count": null,
   "metadata": {
    "collapsed": false
   },
   "outputs": [],
   "source": []
  },
  {
   "cell_type": "code",
   "execution_count": null,
   "metadata": {
    "collapsed": false
   },
   "outputs": [],
   "source": []
  },
  {
   "cell_type": "code",
   "execution_count": null,
   "metadata": {
    "collapsed": false
   },
   "outputs": [],
   "source": []
  },
  {
   "cell_type": "code",
   "execution_count": null,
   "metadata": {
    "collapsed": false
   },
   "outputs": [],
   "source": []
  },
  {
   "cell_type": "code",
   "execution_count": 12,
   "metadata": {
    "collapsed": false
   },
   "outputs": [],
   "source": [
    "## rnn\n",
    "# test\n",
    "rnn_test = np.array([[566,107,0,0,3,18],\n",
    " [122,125,11,0,4,79],\n",
    " [130,216,475,150,551,35],\n",
    " [9,2,15,31,184,0],\n",
    " [7,0,7,27,104,0],\n",
    " [128,278,10,0,1,317]])\n",
    "\n",
    "# acc\n",
    "rnn_acc = np.array([[113,52,3,1,1,25],\n",
    "[25,64,5,0,1,22],\n",
    "[16,48,221,99,234,5],\n",
    "[6,9,24,31,125,0],\n",
    "[4,2,4,44,268,0],\n",
    "[32,113,23,0,0,172]])\n",
    "\n",
    "\n",
    "cnn_test = np.array([[457,189,6,0,0,49],\n",
    "[13,175,10,0,0,143],\n",
    "[11,61,1225,69,34,157],\n",
    "[9,1,18,87,126,0],\n",
    "[5,0,0,13,127,0],\n",
    "[1,52,4,0,0,677]])\n",
    "\n",
    "# acc\n",
    "cnn_acc = np.array([[126,66,0,1,1,19],\n",
    "[6,48,4,1,0,58],\n",
    "[2,32,440,80,2,67],\n",
    "[3,0,20,97,75,0],\n",
    "[1,0,0,11,309,1],\n",
    "[0,8,3,0,0,329]])\n"
   ]
  },
  {
   "cell_type": "code",
   "execution_count": 13,
   "metadata": {
    "collapsed": false
   },
   "outputs": [
    {
     "data": {
      "text/plain": [
       "array([[113,  52,   3,   1,   1,  25],\n",
       "       [ 25,  64,   5,   0,   1,  22],\n",
       "       [ 16,  48, 221,  99, 234,   5],\n",
       "       [  6,   9,  24,  31, 125,   0],\n",
       "       [  4,   2,   4,  44, 268,   0],\n",
       "       [ 32, 113,  23,   0,   0, 172]])"
      ]
     },
     "execution_count": 13,
     "metadata": {},
     "output_type": "execute_result"
    }
   ],
   "source": [
    "rnn_acc"
   ]
  },
  {
   "cell_type": "code",
   "execution_count": null,
   "metadata": {
    "collapsed": true
   },
   "outputs": [],
   "source": []
  },
  {
   "cell_type": "code",
   "execution_count": 14,
   "metadata": {
    "collapsed": false
   },
   "outputs": [
    {
     "ename": "ValueError",
     "evalue": "too many values to unpack (expected 5)",
     "output_type": "error",
     "traceback": [
      "\u001b[0;31m---------------------------------------------------------------------------\u001b[0m",
      "\u001b[0;31mValueError\u001b[0m                                Traceback (most recent call last)",
      "\u001b[0;32m<ipython-input-14-dce56402bf8d>\u001b[0m in \u001b[0;36m<module>\u001b[0;34m()\u001b[0m\n\u001b[0;32m----> 1\u001b[0;31m \u001b[0mTP\u001b[0m\u001b[0;34m,\u001b[0m \u001b[0mFP\u001b[0m\u001b[0;34m,\u001b[0m \u001b[0mprecision\u001b[0m\u001b[0;34m,\u001b[0m \u001b[0mrecall\u001b[0m\u001b[0;34m,\u001b[0m \u001b[0mF1\u001b[0m \u001b[0;34m=\u001b[0m \u001b[0mperformance_measure\u001b[0m\u001b[0;34m(\u001b[0m\u001b[0mcnn_test\u001b[0m\u001b[0;34m)\u001b[0m\u001b[0;34m\u001b[0m\u001b[0m\n\u001b[0m\u001b[1;32m      2\u001b[0m \u001b[0mprint\u001b[0m\u001b[0;34m(\u001b[0m\u001b[0;34m'--------------------------------------------'\u001b[0m\u001b[0;34m)\u001b[0m\u001b[0;34m\u001b[0m\u001b[0m\n\u001b[1;32m      3\u001b[0m \u001b[0mprint\u001b[0m\u001b[0;34m(\u001b[0m\u001b[0;34m'Average for all classes'\u001b[0m\u001b[0;34m)\u001b[0m\u001b[0;34m\u001b[0m\u001b[0m\n\u001b[1;32m      4\u001b[0m \u001b[0mprint\u001b[0m\u001b[0;34m(\u001b[0m\u001b[0;34m'Precision: %f'\u001b[0m \u001b[0;34m%\u001b[0m\u001b[0;34m(\u001b[0m\u001b[0mnp\u001b[0m\u001b[0;34m.\u001b[0m\u001b[0mmean\u001b[0m\u001b[0;34m(\u001b[0m\u001b[0mprecision\u001b[0m\u001b[0;34m)\u001b[0m\u001b[0;34m)\u001b[0m\u001b[0;34m)\u001b[0m\u001b[0;34m\u001b[0m\u001b[0m\n\u001b[1;32m      5\u001b[0m \u001b[0mprint\u001b[0m\u001b[0;34m(\u001b[0m\u001b[0;34m'Recall:    %f'\u001b[0m \u001b[0;34m%\u001b[0m\u001b[0;34m(\u001b[0m\u001b[0mnp\u001b[0m\u001b[0;34m.\u001b[0m\u001b[0mmean\u001b[0m\u001b[0;34m(\u001b[0m\u001b[0mrecall\u001b[0m\u001b[0;34m)\u001b[0m\u001b[0;34m)\u001b[0m\u001b[0;34m)\u001b[0m\u001b[0;34m\u001b[0m\u001b[0m\n",
      "\u001b[0;31mValueError\u001b[0m: too many values to unpack (expected 5)"
     ]
    }
   ],
   "source": [
    "TP, FP, precision, recall, F1 = performance_measure(cnn_test)\n",
    "print('--------------------------------------------')\n",
    "print('Average for all classes')\n",
    "print('Precision: %f' %(np.mean(precision)))\n",
    "print('Recall:    %f' %(np.mean(recall)))\n",
    "print('F1:        %f' %(np.mean(F1)))"
   ]
  },
  {
   "cell_type": "code",
   "execution_count": null,
   "metadata": {
    "collapsed": false
   },
   "outputs": [],
   "source": [
    "TP, FP, precision, recall, F1 = performance_measure(rnn_test)\n",
    "print('--------------------------------------------')\n",
    "print('Average for all classes')\n",
    "print('Precision: %f' %(np.mean(precision)))\n",
    "print('Recall:    %f' %(np.mean(recall)))\n",
    "print('F1:        %f' %(np.mean(F1)))"
   ]
  },
  {
   "cell_type": "code",
   "execution_count": null,
   "metadata": {
    "collapsed": false
   },
   "outputs": [],
   "source": [
    "\n",
    "\n",
    "tmp = np.random.normal(size=20, loc=100, scale=5)  \n",
    "bootstrap_CI(tmp)\n"
   ]
  },
  {
   "cell_type": "code",
   "execution_count": null,
   "metadata": {
    "collapsed": true
   },
   "outputs": [],
   "source": []
  }
 ],
 "metadata": {
  "kernelspec": {
   "display_name": "Python 3",
   "language": "python",
   "name": "python3"
  },
  "language_info": {
   "codemirror_mode": {
    "name": "ipython",
    "version": 3
   },
   "file_extension": ".py",
   "mimetype": "text/x-python",
   "name": "python",
   "nbconvert_exporter": "python",
   "pygments_lexer": "ipython3",
   "version": "3.6.0"
  }
 },
 "nbformat": 4,
 "nbformat_minor": 2
}
