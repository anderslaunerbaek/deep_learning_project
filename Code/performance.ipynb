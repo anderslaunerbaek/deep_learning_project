{
 "cells": [
  {
   "cell_type": "markdown",
   "metadata": {},
   "source": [
    "# Master RNN notebook"
   ]
  },
  {
   "cell_type": "code",
   "execution_count": null,
   "metadata": {
    "collapsed": true
   },
   "outputs": [],
   "source": [
    "from __future__ import absolute_import, division, print_function \n",
    "#import os\n",
    "#import re\n",
    "#import sys\n",
    "#import time\n",
    "\n",
    "#sys.path.append(os.path.join('.', '..')) \n",
    "#import utils\n",
    "#import utils_DL\n",
    "import utils_s160159 as u_s\n",
    "\n",
    "#import matplotlib.pyplot as plt\n",
    "import numpy as np\n",
    "from sklearn.metrics import confusion_matrix"
   ]
  },
  {
   "cell_type": "markdown",
   "metadata": {},
   "source": [
    "## Load data"
   ]
  },
  {
   "cell_type": "code",
   "execution_count": null,
   "metadata": {
    "collapsed": true
   },
   "outputs": [],
   "source": [
    "data_dir = './../Data'\n",
    "NUM_SUBJECTS = 6\n",
    "NUM_CLASSES = 6\n",
    "VAL_TRAIN_ID = NUM_SUBJECTS - 4\n",
    "# Training Loop\n",
    "MAX_EPOCHS = 1 # 50\n",
    "BATCH_SIZE = 25 # 30 works on AWS "
   ]
  },
  {
   "cell_type": "code",
   "execution_count": null,
   "metadata": {
    "collapsed": false
   },
   "outputs": [],
   "source": [
    "cm = 'cm_val'\n",
    "cap_master = dict(np.load('./../Code/models/master/Version_4.0/capture_dict.npz'))['arr_0'].tolist()[1]\n",
    "cap_rnn = dict(np.load('./../Code/models/rnn/Version_4.0/capture_dict.npz'))['arr_0'].tolist()[1]\n",
    "cm_master = cap_master[cm]\n",
    "cm_rnn = cap_rnn[cm]\n",
    "cm_master_norm = cm_master / cm_master.astype(np.float).sum(axis=1, keepdims=True) * 100\n",
    "cm_rnn_norm = cm_rnn / cm_rnn.astype(np.float).sum(axis=1, keepdims=True) * 100"
   ]
  },
  {
   "cell_type": "markdown",
   "metadata": {},
   "source": [
    "### Table 1"
   ]
  },
  {
   "cell_type": "code",
   "execution_count": null,
   "metadata": {
    "collapsed": false
   },
   "outputs": [],
   "source": [
    "table_res_1 = np.zeros((12,16))\n",
    "TP, FP, precision, recall, F1, Acc = u_s.performance_measure(cm_master)\n",
    "print('--------------------------------------------')\n",
    "print('Average for all classes')\n",
    "print('Precision: %f' %(np.mean(precision)))\n",
    "print('Recall:    %f' %(np.mean(recall)))\n",
    "print('F1:        %f' %(np.mean(F1)))\n",
    "\n",
    "table_res_1[0:6,0:6] = cm_master\n",
    "table_res_1[0:6,6:12] = cm_master_norm\n",
    "table_res_1[0:6,12] = precision * 100\n",
    "table_res_1[0:6,13] = recall * 100\n",
    "table_res_1[0:6,14] = F1 * 100\n",
    "table_res_1[0:6,15] = Acc * 100"
   ]
  },
  {
   "cell_type": "code",
   "execution_count": null,
   "metadata": {
    "collapsed": false
   },
   "outputs": [],
   "source": [
    "TP, FP, precision, recall, F1, Acc = u_s.performance_measure(cm_rnn)\n",
    "print('--------------------------------------------')\n",
    "print('Average for all classes')\n",
    "print('Precision: %f' %(np.mean(precision)))\n",
    "print('Recall:    %f' %(np.mean(recall)))\n",
    "print('F1:        %f' %(np.mean(F1)))\n",
    "\n",
    "table_res_1[6:12,0:6] = cm_rnn\n",
    "table_res_1[6:12,6:12] = cm_rnn_norm\n",
    "table_res_1[6:12,12] = precision * 100\n",
    "table_res_1[6:12,13] = recall * 100\n",
    "table_res_1[6:12,14] = F1 * 100\n",
    "table_res_1[6:12,15] = Acc * 100\n"
   ]
  },
  {
   "cell_type": "code",
   "execution_count": null,
   "metadata": {
    "collapsed": false
   },
   "outputs": [],
   "source": [
    "u_s.array_to_latex(table_res_1)"
   ]
  },
  {
   "cell_type": "code",
   "execution_count": null,
   "metadata": {
    "collapsed": false
   },
   "outputs": [],
   "source": [
    "master_norm_diag = np.diag(table_res_1[0:6,6:12])\n",
    "rnn_norm_diag = np.diag(table_res_1[6:12,6:12])"
   ]
  },
  {
   "cell_type": "code",
   "execution_count": null,
   "metadata": {
    "collapsed": false
   },
   "outputs": [],
   "source": [
    "pp = \"{:.2f}\"\n",
    "tmp_str = ''\n",
    "tmp_str += pp.format(np.min(master_norm_diag)) + ' - ' + \\\n",
    "pp.format(np.mean(master_norm_diag)) + ' - ' + \\\n",
    "pp.format(np.max(master_norm_diag))\n",
    "print(tmp_str)\n",
    "\n",
    "tmp_str = ''\n",
    "tmp_str += pp.format(np.min(rnn_norm_diag)) + ' - ' + \\\n",
    "pp.format(np.mean(rnn_norm_diag)) + ' - ' + \\\n",
    "pp.format(np.max(rnn_norm_diag))\n",
    "print(tmp_str)"
   ]
  },
  {
   "cell_type": "markdown",
   "metadata": {},
   "source": [
    "### Table 2"
   ]
  },
  {
   "cell_type": "code",
   "execution_count": null,
   "metadata": {
    "collapsed": false
   },
   "outputs": [],
   "source": [
    "pp = \"{:.0f}\"\n",
    "_, _, precision, recall, F1, Acc = u_s.performance_measure(cm_master)\n",
    "tmp_str = ''\n",
    "tmp = u_s.bootstrap_CI(precision)\n",
    "tmp_str += pp.format(tmp[0]*100) + '-\\\\textbf{' + \\\n",
    "pp.format(tmp[1]*100) + '}-' + \\\n",
    "pp.format(tmp[2]*100) + ' & '\n",
    "\n",
    "tmp = u_s.bootstrap_CI(recall)\n",
    "tmp_str += pp.format(tmp[0]*100) + '-\\\\textbf{' + \\\n",
    "pp.format(tmp[1]*100) + '}-' + \\\n",
    "pp.format(tmp[2]*100) + ' & '\n",
    "\n",
    "tmp = u_s.bootstrap_CI(F1)\n",
    "tmp_str += pp.format(tmp[0]*100) + '-\\\\textbf{' + \\\n",
    "pp.format(tmp[1]*100) + '}-' + \\\n",
    "pp.format(tmp[2]*100) + ' & '\n",
    "\n",
    "tmp = u_s.bootstrap_CI(Acc)\n",
    "tmp_str += pp.format(tmp[0]*100) + '-\\\\textbf{' + \\\n",
    "pp.format(tmp[1]*100) + '}-' + \\\n",
    "pp.format(tmp[2]*100) + '\\\\\\\\'\n",
    "print(tmp_str)"
   ]
  },
  {
   "cell_type": "code",
   "execution_count": null,
   "metadata": {
    "collapsed": false
   },
   "outputs": [],
   "source": [
    "_, _, precision, recall, F1, Acc = u_s.performance_measure(cm_rnn)\n",
    "tmp_str = ''\n",
    "tmp = u_s.bootstrap_CI(precision)\n",
    "tmp_str += pp.format(tmp[0]*100) + '-\\\\textbf{' + \\\n",
    "pp.format(tmp[1]*100) + '}-' + \\\n",
    "pp.format(tmp[2]*100) + ' & '\n",
    "\n",
    "tmp = u_s.bootstrap_CI(recall)\n",
    "tmp_str += pp.format(tmp[0]*100) + '-\\\\textbf{' + \\\n",
    "pp.format(tmp[1]*100) + '}-' + \\\n",
    "pp.format(tmp[2]*100) + ' & '\n",
    "\n",
    "tmp = u_s.bootstrap_CI(F1)\n",
    "tmp_str += pp.format(tmp[0]*100) + '-\\\\textbf{' + \\\n",
    "pp.format(tmp[1]*100) + '}-' + \\\n",
    "pp.format(tmp[2]*100) + ' & '\n",
    "\n",
    "tmp = u_s.bootstrap_CI(Acc)\n",
    "tmp_str += pp.format(tmp[0]*100) + '-\\\\textbf{' + \\\n",
    "pp.format(tmp[1]*100) + '}-' + \\\n",
    "pp.format(tmp[2]*100) + '\\\\\\\\'\n",
    "print(tmp_str)"
   ]
  },
  {
   "cell_type": "code",
   "execution_count": null,
   "metadata": {
    "collapsed": false
   },
   "outputs": [],
   "source": []
  },
  {
   "cell_type": "code",
   "execution_count": null,
   "metadata": {
    "collapsed": false
   },
   "outputs": [],
   "source": []
  },
  {
   "cell_type": "code",
   "execution_count": null,
   "metadata": {
    "collapsed": false
   },
   "outputs": [],
   "source": []
  },
  {
   "cell_type": "code",
   "execution_count": null,
   "metadata": {
    "collapsed": false
   },
   "outputs": [],
   "source": []
  },
  {
   "cell_type": "code",
   "execution_count": null,
   "metadata": {
    "collapsed": false
   },
   "outputs": [],
   "source": []
  },
  {
   "cell_type": "code",
   "execution_count": null,
   "metadata": {
    "collapsed": false
   },
   "outputs": [],
   "source": []
  },
  {
   "cell_type": "code",
   "execution_count": null,
   "metadata": {
    "collapsed": false
   },
   "outputs": [],
   "source": []
  },
  {
   "cell_type": "code",
   "execution_count": null,
   "metadata": {
    "collapsed": false
   },
   "outputs": [],
   "source": []
  },
  {
   "cell_type": "code",
   "execution_count": null,
   "metadata": {
    "collapsed": false
   },
   "outputs": [],
   "source": []
  },
  {
   "cell_type": "code",
   "execution_count": null,
   "metadata": {
    "collapsed": false
   },
   "outputs": [],
   "source": []
  },
  {
   "cell_type": "code",
   "execution_count": null,
   "metadata": {
    "collapsed": false
   },
   "outputs": [],
   "source": [
    "## rnn\n",
    "# test\n",
    "rnn_test = np.array([[566,107,0,0,3,18],\n",
    " [122,125,11,0,4,79],\n",
    " [130,216,475,150,551,35],\n",
    " [9,2,15,31,184,0],\n",
    " [7,0,7,27,104,0],\n",
    " [128,278,10,0,1,317]])\n",
    "\n",
    "# acc\n",
    "rnn_acc = np.array([[113,52,3,1,1,25],\n",
    "[25,64,5,0,1,22],\n",
    "[16,48,221,99,234,5],\n",
    "[6,9,24,31,125,0],\n",
    "[4,2,4,44,268,0],\n",
    "[32,113,23,0,0,172]])\n",
    "\n",
    "\n",
    "cnn_test = np.array([[457,189,6,0,0,49],\n",
    "[13,175,10,0,0,143],\n",
    "[11,61,1225,69,34,157],\n",
    "[9,1,18,87,126,0],\n",
    "[5,0,0,13,127,0],\n",
    "[1,52,4,0,0,677]])\n",
    "\n",
    "# acc\n",
    "cnn_acc = np.array([[126,66,0,1,1,19],\n",
    "[6,48,4,1,0,58],\n",
    "[2,32,440,80,2,67],\n",
    "[3,0,20,97,75,0],\n",
    "[1,0,0,11,309,1],\n",
    "[0,8,3,0,0,329]])\n"
   ]
  },
  {
   "cell_type": "code",
   "execution_count": null,
   "metadata": {
    "collapsed": false
   },
   "outputs": [],
   "source": [
    "rnn_acc"
   ]
  },
  {
   "cell_type": "code",
   "execution_count": null,
   "metadata": {
    "collapsed": true
   },
   "outputs": [],
   "source": []
  },
  {
   "cell_type": "code",
   "execution_count": null,
   "metadata": {
    "collapsed": false
   },
   "outputs": [],
   "source": [
    "TP, FP, precision, recall, F1 = u_s.performance_measure(cnn_test)\n",
    "print('--------------------------------------------')\n",
    "print('Average for all classes')\n",
    "print('Precision: %f' %(np.mean(precision)))\n",
    "print('Recall:    %f' %(np.mean(recall)))\n",
    "print('F1:        %f' %(np.mean(F1)))"
   ]
  },
  {
   "cell_type": "code",
   "execution_count": null,
   "metadata": {
    "collapsed": false
   },
   "outputs": [],
   "source": [
    "TP, FP, precision, recall, F1 = u_s.performance_measure(rnn_test)\n",
    "print('--------------------------------------------')\n",
    "print('Average for all classes')\n",
    "print('Precision: %f' %(np.mean(precision)))\n",
    "print('Recall:    %f' %(np.mean(recall)))\n",
    "print('F1:        %f' %(np.mean(F1)))"
   ]
  },
  {
   "cell_type": "code",
   "execution_count": null,
   "metadata": {
    "collapsed": true
   },
   "outputs": [],
   "source": []
  }
 ],
 "metadata": {
  "kernelspec": {
   "display_name": "Python 3",
   "language": "python",
   "name": "python3"
  },
  "language_info": {
   "codemirror_mode": {
    "name": "ipython",
    "version": 3
   },
   "file_extension": ".py",
   "mimetype": "text/x-python",
   "name": "python",
   "nbconvert_exporter": "python",
   "pygments_lexer": "ipython3",
   "version": "3.6.0"
  }
 },
 "nbformat": 4,
 "nbformat_minor": 2
}
