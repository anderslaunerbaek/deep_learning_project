{
 "cells": [
  {
   "cell_type": "markdown",
   "metadata": {},
   "source": [
    "# Master RNN notebook"
   ]
  },
  {
   "cell_type": "code",
   "execution_count": 1,
   "metadata": {
    "collapsed": true
   },
   "outputs": [],
   "source": [
    "from __future__ import absolute_import, division, print_function \n",
    "#import os\n",
    "#import re\n",
    "#import sys\n",
    "#import time\n",
    "\n",
    "#sys.path.append(os.path.join('.', '..')) \n",
    "#import utils\n",
    "#import utils_DL\n",
    "import utils_s160159 as u_s\n",
    "\n",
    "#import matplotlib.pyplot as plt\n",
    "import numpy as np\n",
    "from sklearn.metrics import confusion_matrix"
   ]
  },
  {
   "cell_type": "code",
   "execution_count": 2,
   "metadata": {
    "collapsed": true
   },
   "outputs": [],
   "source": [
    "# https://machinelearningmastery.com/classification-accuracy-is-not-enough-more-performance-measures-you-can-use/\n",
    "# https://stats.stackexchange.com/questions/51296/how-do-you-calculate-precision-and-recall-for-multiclass-classification-using-co\n",
    "def performance_measure(cm):\n",
    "    TP = np.diag(cm)\n",
    "    FP = np.sum(cm, axis=0) - np.diag(cm)\n",
    "    FN = np.sum(cm,axis=1) - np.diag(cm)\n",
    "    precision = u_s.safe_div(TP, TP + FP)\n",
    "    recall = u_s.safe_div(TP, TP + FN)\n",
    "    F1 = np.multiply(2, u_s.safe_div(np.multiply(precision, recall),\n",
    "                                     np.add(precision, recall)))\n",
    "    \n",
    "    #\n",
    "    return TP, FP, precision, recall, F1 "
   ]
  },
  {
   "cell_type": "markdown",
   "metadata": {},
   "source": [
    "## Load data"
   ]
  },
  {
   "cell_type": "code",
   "execution_count": 3,
   "metadata": {
    "collapsed": true
   },
   "outputs": [],
   "source": [
    "data_dir = './../Data'\n",
    "NUM_SUBJECTS = 6\n",
    "NUM_CLASSES = 6\n",
    "VAL_TRAIN_ID = NUM_SUBJECTS - 4\n",
    "# Training Loop\n",
    "MAX_EPOCHS = 1 # 50\n",
    "BATCH_SIZE = 25 # 30 works on AWS "
   ]
  },
  {
   "cell_type": "code",
   "execution_count": 4,
   "metadata": {
    "collapsed": false
   },
   "outputs": [],
   "source": [
    "cap = dict(np.load('./../Code/models/master/capture_dict.npz')['arr_0'].tolist())"
   ]
  },
  {
   "cell_type": "code",
   "execution_count": 5,
   "metadata": {
    "collapsed": false
   },
   "outputs": [],
   "source": [
    "cm = cap[1]['cm_val']"
   ]
  },
  {
   "cell_type": "code",
   "execution_count": 8,
   "metadata": {
    "collapsed": false
   },
   "outputs": [
    {
     "data": {
      "text/plain": [
       "{'cm_test': array([[1810,    0,    0,    0,    0,    0],\n",
       "        [   0,    0,    0,    0,    0,    0],\n",
       "        [   0,    0,    0,    0,    0,    0],\n",
       "        [   0,    0,    0,    0,    0,    0],\n",
       "        [   0,    0,    0,    0,    0,    0],\n",
       "        [   0,    0,    0,    0,    0,    0]]),\n",
       " 'cm_val': array([[7451,    0,    0,    0,    0,    0],\n",
       "        [   0,    0,    0,    0,    0,    0],\n",
       "        [   0,    0,    0,    0,    0,    0],\n",
       "        [   0,    0,    0,    0,    0,    0],\n",
       "        [   0,    0,    0,    0,    0,    0],\n",
       "        [   0,    0,    0,    0,    0,    0]]),\n",
       " 'test_accuracy': 1.0,\n",
       " 'test_loss': 0.0,\n",
       " 'train_accuracy': 0.99921381,\n",
       " 'train_loss': 0.0041088979,\n",
       " 'valid_accuracy': 1.0,\n",
       " 'valid_loss': 0.0}"
      ]
     },
     "execution_count": 8,
     "metadata": {},
     "output_type": "execute_result"
    }
   ],
   "source": [
    "cap[1]"
   ]
  },
  {
   "cell_type": "code",
   "execution_count": 6,
   "metadata": {
    "collapsed": false
   },
   "outputs": [
    {
     "name": "stdout",
     "output_type": "stream",
     "text": [
      "--------------------------------------------\n",
      "Average for all classes\n",
      "Precision: 0.166667\n",
      "Recall:    0.166667\n",
      "F1:        nan\n"
     ]
    }
   ],
   "source": [
    "TP, FP, precision, recall, F1 = performance_measure(cm)\n",
    "print('--------------------------------------------')\n",
    "print('Average for all classes')\n",
    "print('Precision: %f' %(np.mean(precision)))\n",
    "print('Recall:    %f' %(np.mean(recall)))\n",
    "print('F1:        %f' %(np.mean(F1)))"
   ]
  },
  {
   "cell_type": "code",
   "execution_count": 86,
   "metadata": {
    "collapsed": false
   },
   "outputs": [
    {
     "data": {
      "text/plain": [
       "(92.631597657372424, 98.657546430616847, 104.68349520386127)"
      ]
     },
     "execution_count": 86,
     "metadata": {},
     "output_type": "execute_result"
    }
   ],
   "source": [
    "# http://www.dummies.com/education/science/biology/the-bootstrap-method-for-standard-errors-and-confidence-intervals/\n",
    "def bootstrap_CI(values, n_sim = 100000, p = 0.05):\n",
    "    x_hat_list = []\n",
    "    # create X simulations\n",
    "    for i in range(n_sim):\n",
    "        # draw numbers from distribution\n",
    "        x_hat = np.random.choice(values, \n",
    "                                 size=values.shape[0], \n",
    "                                 replace=True)\n",
    "        # append mean value to list\n",
    "        x_hat_list.append(np.mean(x_hat))\n",
    "    # calculate the SD\n",
    "    sd_hat = np.std(x_hat_list)\n",
    "    mean_hat = np.mean(x_hat_list)\n",
    "    # sort list\n",
    "    x_hat_list = np.sort(x_hat_list)\n",
    "    # remove lower and upper p/2 quantiles\n",
    "    x_hat_list = x_hat_list[int(p/2*n_sim):int(n_sim-p/2*n_sim)]\n",
    "    \n",
    "    # calculate CI\n",
    "    ci_l = mean_hat-sd_hat*(np.max(x_hat_list)-np.min(x_hat_list))\n",
    "    ci_u = mean_hat+sd_hat*(np.max(x_hat_list)-np.min(x_hat_list))\n",
    "    return(ci_l, mean_hat, ci_u)\n",
    "\n",
    "tmp = np.random.normal(size=20, loc=100, scale=5)  \n",
    "bootstrap_CI(tmp)\n"
   ]
  },
  {
   "cell_type": "code",
   "execution_count": null,
   "metadata": {
    "collapsed": true
   },
   "outputs": [],
   "source": []
  }
 ],
 "metadata": {
  "kernelspec": {
   "display_name": "Python 3",
   "language": "python",
   "name": "python3"
  },
  "language_info": {
   "codemirror_mode": {
    "name": "ipython",
    "version": 3
   },
   "file_extension": ".py",
   "mimetype": "text/x-python",
   "name": "python",
   "nbconvert_exporter": "python",
   "pygments_lexer": "ipython3",
   "version": "3.6.0"
  }
 },
 "nbformat": 4,
 "nbformat_minor": 2
}
