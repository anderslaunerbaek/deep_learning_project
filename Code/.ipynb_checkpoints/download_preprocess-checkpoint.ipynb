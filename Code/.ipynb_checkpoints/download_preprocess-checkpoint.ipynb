{
 "cells": [
  {
   "cell_type": "markdown",
   "metadata": {},
   "source": [
    "# Dowload data and Preprocess data"
   ]
  },
  {
   "cell_type": "code",
   "execution_count": 1,
   "metadata": {
    "collapsed": false
   },
   "outputs": [],
   "source": [
    "import wget\n",
    "import ssl\n",
    "ssl._create_default_https_context = ssl._create_unverified_context\n",
    "\n",
    "from os.path import basename\n",
    "from os import listdir\n",
    "import os\n",
    "from os.path import isfile, join\n",
    "import requests\n",
    "import re\n",
    "from pathlib import Path"
   ]
  },
  {
   "cell_type": "code",
   "execution_count": 2,
   "metadata": {
    "collapsed": false
   },
   "outputs": [],
   "source": [
    "data_dir = './../Data_1/'"
   ]
  },
  {
   "cell_type": "markdown",
   "metadata": {},
   "source": [
    "## Download EDFx Data"
   ]
  },
  {
   "cell_type": "code",
   "execution_count": 4,
   "metadata": {
    "collapsed": false,
    "scrolled": true
   },
   "outputs": [
    {
     "name": "stdout",
     "output_type": "stream",
     "text": [
      "1 of 61\n",
      "2 of 61\n",
      "3 of 61\n",
      "4 of 61\n",
      "5 of 61\n",
      "6 of 61\n",
      "7 of 61\n",
      "8 of 61\n",
      "9 of 61\n",
      "10 of 61\n",
      "11 of 61\n",
      "12 of 61\n",
      "13 of 61\n",
      "14 of 61\n",
      "15 of 61\n",
      "16 of 61\n",
      "17 of 61\n",
      "18 of 61\n",
      "19 of 61\n",
      "20 of 61\n",
      "21 of 61\n",
      "22 of 61\n",
      "23 of 61\n",
      "24 of 61\n",
      "25 of 61\n",
      "26 of 61\n",
      "27 of 61\n",
      "28 of 61\n",
      "29 of 61\n",
      "30 of 61\n",
      "31 of 61\n",
      "32 of 61\n",
      "33 of 61\n",
      "34 of 61\n",
      "35 of 61\n",
      "36 of 61\n",
      "37 of 61\n",
      "38 of 61\n",
      "39 of 61\n",
      "40 of 61\n",
      "41 of 61\n",
      "42 of 61\n",
      "43 of 61\n",
      "44 of 61\n",
      "45 of 61\n",
      "46 of 61\n",
      "47 of 61\n",
      "48 of 61\n",
      "49 of 61\n",
      "50 of 61\n",
      "51 of 61\n",
      "52 of 61\n",
      "53 of 61\n",
      "54 of 61\n",
      "55 of 61\n",
      "56 of 61\n",
      "57 of 61\n",
      "58 of 61\n",
      "59 of 61\n",
      "60 of 61\n",
      "61 of 61\n",
      "Download complete!\n"
     ]
    }
   ],
   "source": [
    "url = 'https://www.physionet.org/physiobank/database/sleep-edfx/RECORDS'\n",
    "r = requests.get(url).text.splitlines()\n",
    "#\n",
    "edf_strings = sorted(r)\n",
    "folder_names = [re.sub(pattern='-PSG.edf', string=ss, repl='') for ss in edf_strings]\n",
    "\n",
    "# download\n",
    "# main url\n",
    "url = 'https://www.physionet.org/physiobank/database/sleep-edfx/'\n",
    "\n",
    "#\n",
    "for ii, data in enumerate(edf_strings):\n",
    "    print(ii + 1, 'of', len(edf_strings))\n",
    "    #\n",
    "    if not os.path.exists(data_dir + folder_names[ii]):\n",
    "        os.makedirs(data_dir + folder_names[ii])\n",
    "    \n",
    "    #\n",
    "    try:\n",
    "        if not (Path(data_dir + folder_names[ii] + '/' + data).is_file()):\n",
    "            wget.download(url + data, data_dir + folder_names[ii] + '/' + data)\n",
    "    except Exception: \n",
    "        pass\n",
    "    \n",
    "        \n",
    "# Print final summary of downloads\n",
    "print('Download complete!')"
   ]
  },
  {
   "cell_type": "markdown",
   "metadata": {},
   "source": [
    "## Download hypnogram + annotations"
   ]
  },
  {
   "cell_type": "code",
   "execution_count": 6,
   "metadata": {
    "collapsed": false
   },
   "outputs": [
    {
     "name": "stdout",
     "output_type": "stream",
     "text": [
      "Download complete!\n",
      "366 files successfully downloaded ... \n",
      "0 files failed to download\n",
      "\n"
     ]
    }
   ],
   "source": [
    "# List of files to download\n",
    "list_of_files = [\n",
    "    'hyp_start_time.txt',\n",
    "    'lights_off_time.txt',\n",
    "    'lights_on_time.txt',\n",
    "    'rec_start_time.txt',\n",
    "    'rec_stop_time.txt']\n",
    "#\n",
    "url = 'https://workspace.imperial.ac.uk/rodriguez-villegas-lab/Public/edfx-toolbox-files/list_of_tests.txt'\n",
    "annotations_url = 'https://workspace.imperial.ac.uk/rodriguez-villegas-lab/Public/edfx-toolbox-files/'\n",
    "\n",
    "r = requests.get(url).text.splitlines()\n",
    "#\n",
    "edf_anno_strings = sorted(r)\n",
    "test_names = [re.sub(pattern='\\[t\\]|\\[\\\\\\\\t\\]', string=ss, repl='') for ss in edf_anno_strings]\n",
    "\n",
    "# Initialise variable for success/failure counts\n",
    "sc = 0\n",
    "fc = 0\n",
    "\n",
    "#\n",
    "for ii, data in enumerate(test_names):\n",
    "    # Add the annotation file specific for each test in the list\n",
    "    this_test = test_names[ii]\n",
    "    folder_name = this_test;\n",
    "    hyp_file = this_test + '.txt'\n",
    "    files_to_download = list_of_files + [hyp_file]\n",
    "\n",
    "    # Check if test directory exists, create if it doesn't\n",
    "    test_dir = data_dir + folder_name\n",
    "    if not os.path.exists(test_dir):\n",
    "        os.makedirs(test_dir)\n",
    "\n",
    "    info_test_dir = test_dir + '/' + 'info'\n",
    "    if not os.path.exists(info_test_dir):\n",
    "        os.makedirs(info_test_dir)\n",
    "\n",
    "    # Download each file from the file_to_download list and display\n",
    "    # progress and location of saved file\n",
    "    for _, f_down in enumerate(files_to_download):\n",
    "        #\n",
    "        path_of_file = info_test_dir + '/' + f_down\n",
    "        url_of_file = annotations_url + this_test + '/info/' + f_down\n",
    "\n",
    "        #\n",
    "        try:\n",
    "            wget.download(url_of_file, path_of_file)\n",
    "            sc += 1\n",
    "        except:\n",
    "            fc += 1\n",
    "            pass\n",
    "        \n",
    "# Print final summary of downloads\n",
    "print('Download complete!')\n",
    "print(str(sc) + ' files successfully downloaded ... \\n' +\n",
    "      str(fc) + ' files failed to download\\n')"
   ]
  },
  {
   "cell_type": "code",
   "execution_count": null,
   "metadata": {
    "collapsed": true
   },
   "outputs": [],
   "source": []
  }
 ],
 "metadata": {
  "kernelspec": {
   "display_name": "Python 3",
   "language": "python",
   "name": "python3"
  },
  "language_info": {
   "codemirror_mode": {
    "name": "ipython",
    "version": 3
   },
   "file_extension": ".py",
   "mimetype": "text/x-python",
   "name": "python",
   "nbconvert_exporter": "python",
   "pygments_lexer": "ipython3",
   "version": "3.6.0"
  }
 },
 "nbformat": 4,
 "nbformat_minor": 2
}
