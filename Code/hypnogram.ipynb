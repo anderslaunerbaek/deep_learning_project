{
 "cells": [
  {
   "cell_type": "markdown",
   "metadata": {},
   "source": [
    "# hypnogram"
   ]
  },
  {
   "cell_type": "code",
   "execution_count": 1,
   "metadata": {
    "collapsed": false
   },
   "outputs": [],
   "source": [
    "from __future__ import absolute_import, division, print_function \n",
    "#import os\n",
    "#import re\n",
    "#import sys\n",
    "#import time\n",
    "\n",
    "#sys.path.append(os.path.join('.', '..')) \n",
    "import utils\n",
    "#import utils_DL\n",
    "import utils_s160159 as u_s\n",
    "\n",
    "import matplotlib.pyplot as plt\n",
    "import numpy as np\n",
    "import tensorflow as tf\n"
   ]
  },
  {
   "cell_type": "markdown",
   "metadata": {},
   "source": [
    "## Load data"
   ]
  },
  {
   "cell_type": "code",
   "execution_count": 2,
   "metadata": {
    "collapsed": true
   },
   "outputs": [],
   "source": [
    "data_dir = './../Data'\n",
    "logs_path = './logs'\n",
    "save_dir = './../Written work/Article/contents/'\n",
    "SUBJECT_NO = 1\n",
    "NUM_CLASSES = 6\n",
    "BATCH_SIZE = 32"
   ]
  },
  {
   "cell_type": "code",
   "execution_count": 3,
   "metadata": {
    "collapsed": false
   },
   "outputs": [
    {
     "name": "stdout",
     "output_type": "stream",
     "text": [
      "Loading subject 1...\n"
     ]
    }
   ],
   "source": [
    "print(\"Loading subject %d...\" %(SUBJECT_NO))\n",
    "subjects_list = np.load(data_dir + '_dicts' + '/subject_' + str(SUBJECT_NO) + '_dict.npy').item()\n",
    "IMAGE_SHAPE = subjects_list[0][0].shape"
   ]
  },
  {
   "cell_type": "code",
   "execution_count": 4,
   "metadata": {
    "collapsed": false
   },
   "outputs": [],
   "source": [
    "def my_hyp(my_list, idx_scale,val_scale, file_name, savedir):\n",
    "    def change(x):\n",
    "        if x == 0: x_out = 0\n",
    "        if x == 1: x_out = -1\n",
    "        if x == 2: x_out = -2\n",
    "        if x == 3: x_out = -3\n",
    "        if x == 4: x_out = -4\n",
    "        if x == 5: x_out = -5\n",
    "        return(x_out)\n",
    "    tmp_str = ''\n",
    "    val_old = ''\n",
    "    for idx, val in enumerate(my_list):\n",
    "        val = change(val)\n",
    "        idx *= idx_scale\n",
    "        val *= val_scale\n",
    "\n",
    "        if val_old == '':\n",
    "            tmp_str += '(' + '{:.2f}'.format(idx) + ',' + '{:.2f}'.format(val) + ')--'\n",
    "        else:\n",
    "            tmp_str += '(' + '{:.2f}'.format(idx) + ',' + '{:.2f}'.format(old_val) + ')--' + \\\n",
    "            '(' + '{:.2f}'.format(idx) + ',' + '{:.2f}'.format(val) + ')--'\n",
    "\n",
    "        val_old = val\n",
    "    tmp_str = '\\\\draw[line width=0.05mm] ' + tmp_str[:-2] + ';'\n",
    "    \n",
    "    #\n",
    "    text_file = open(savedir + file_name + '.tex', \"w\")\n",
    "    text_file.write(tmp_str)\n",
    "    text_file.close()\n",
    "    print('Saved...')"
   ]
  },
  {
   "cell_type": "code",
   "execution_count": 5,
   "metadata": {
    "collapsed": false
   },
   "outputs": [
    {
     "name": "stdout",
     "output_type": "stream",
     "text": [
      "Saved...\n"
     ]
    }
   ],
   "source": [
    "my_hyp(my_list=subjects_list[1], \n",
    "       idx_scale=0.01,\n",
    "       val_scale=0.1,\n",
    "       file_name = 'hyp_class',\n",
    "       savedir=save_dir)"
   ]
  },
  {
   "cell_type": "markdown",
   "metadata": {},
   "source": [
    "## Restoring the master model and  create per class sensitivity map"
   ]
  },
  {
   "cell_type": "code",
   "execution_count": 6,
   "metadata": {
    "collapsed": false
   },
   "outputs": [],
   "source": [
    "inputs_val = subjects_list[0]\n",
    "targets_val = np.zeros((len(subjects_list[0]),NUM_CLASSES))\n",
    "for ii in range(len(subjects_list[1])):\n",
    "    targets_val[ii,subjects_list[1][ii]] = 1"
   ]
  },
  {
   "cell_type": "code",
   "execution_count": 7,
   "metadata": {
    "collapsed": false
   },
   "outputs": [
    {
     "name": "stdout",
     "output_type": "stream",
     "text": [
      "INFO:tensorflow:Restoring parameters from ./models/master/Version_4.0/fold_1.ckpt\n",
      "Evaluate Subject predict\n",
      "\tminibatch: 58\n",
      "Saved...\n"
     ]
    }
   ],
   "source": [
    "tf.reset_default_graph()\n",
    "model_path = './models/master/Version_4.0/'\n",
    "with tf.Session() as sess:\n",
    "    try:\n",
    "        # restore model   \n",
    "        #First let's load meta graph and restore weights\n",
    "        saver = tf.train.import_meta_graph(model_path + 'fold_1.ckpt.meta')\n",
    "        saver.restore(sess, tf.train.latest_checkpoint(model_path))\n",
    "        graph = tf.get_default_graph()\n",
    "        \n",
    "        x_pl = graph.get_tensor_by_name(name='input_placeholder:0')\n",
    "        y_pl = graph.get_tensor_by_name(name='target_placeholder:0')\n",
    "        probs = graph.get_tensor_by_name('Softmax:0')\n",
    "        prediction = tf.one_hot(tf.argmax(probs, axis=1), depth=NUM_CLASSES)\n",
    "        \n",
    "        #\n",
    "        print('Evaluate Subject predict')\n",
    "        val_pred = []\n",
    "        _iter = 1\n",
    "        #\n",
    "        for x_batch, _ in utils.iterate_minibatches(batchsize=BATCH_SIZE, \n",
    "                                                          inputs=inputs_val, \n",
    "                                                          targets=targets_val, \n",
    "                                                          shuffle=False):\n",
    "            _pred = sess.run(fetches=prediction,\n",
    "                             feed_dict={x_pl: x_batch})\n",
    "            # append prediction\n",
    "            val_pred += [np.argmax(_pred[ii]) for ii in range(len(_pred))]\n",
    "            \n",
    "            print(\"\\tminibatch: %d\" %(_iter),end='\\r')\n",
    "            _iter += 1        \n",
    "            \n",
    "        # close session\n",
    "        sess.close()\n",
    "        print('')\n",
    "        my_hyp(my_list=val_pred, \n",
    "               idx_scale=0.01,\n",
    "               val_scale=0.1,\n",
    "               file_name = 'hyp_master',\n",
    "               savedir=save_dir)\n",
    "        \n",
    "        #\n",
    "    except KeyboardInterrupt:\n",
    "        pass"
   ]
  },
  {
   "cell_type": "code",
   "execution_count": 8,
   "metadata": {
    "collapsed": false
   },
   "outputs": [
    {
     "name": "stdout",
     "output_type": "stream",
     "text": [
      "INFO:tensorflow:Restoring parameters from ./models/rnn/Version_4.0/fold_1.ckpt\n",
      "Evaluate Subject predict\n",
      "\tminibatch: 56\n",
      "Saved...\n"
     ]
    }
   ],
   "source": [
    "tf.reset_default_graph()\n",
    "model_path = './models/rnn/Version_4.0/'\n",
    "with tf.Session() as sess:\n",
    "    try:\n",
    "        # restore model   \n",
    "        #First let's load meta graph and restore weights\n",
    "        saver = tf.train.import_meta_graph(model_path + 'fold_1.ckpt.meta')\n",
    "        saver.restore(sess, tf.train.latest_checkpoint(model_path))\n",
    "        graph = tf.get_default_graph()\n",
    "        \n",
    "        x_pl = graph.get_tensor_by_name(name='input_placeholder:0')\n",
    "        y_pl = graph.get_tensor_by_name(name='target_placeholder:0')\n",
    "        probs = graph.get_tensor_by_name('Softmax:0')\n",
    "        prediction = tf.one_hot(tf.argmax(probs, axis=1), depth=NUM_CLASSES)\n",
    "        \n",
    "        #\n",
    "        print('Evaluate Subject predict')\n",
    "        val_pred = []\n",
    "        _iter = 1\n",
    "        #\n",
    "        for x_batch, _ in utils.iterate_minibatches(batchsize=BATCH_SIZE, \n",
    "                                                          inputs=inputs_val, \n",
    "                                                          targets=targets_val, \n",
    "                                                          shuffle=False):\n",
    "            # LSTM has a static structure...\n",
    "            if len(x_batch) != BATCH_SIZE: break\n",
    "                \n",
    "            _pred = sess.run(fetches=prediction,\n",
    "                             feed_dict={x_pl: x_batch})\n",
    "            # append prediction\n",
    "            val_pred += [np.argmax(_pred[ii]) for ii in range(len(_pred))]\n",
    "            \n",
    "            print(\"\\tminibatch: %d\" %(_iter),end='\\r')\n",
    "            _iter += 1        \n",
    "            \n",
    "        # close session\n",
    "        sess.close()\n",
    "        print('')\n",
    "        my_hyp(my_list=val_pred, \n",
    "               idx_scale=0.01,\n",
    "               val_scale=0.1,\n",
    "               file_name = 'hyp_rnn',\n",
    "               savedir=save_dir)\n",
    "        \n",
    "        #\n",
    "    except KeyboardInterrupt:\n",
    "        pass\n",
    "        \n"
   ]
  },
  {
   "cell_type": "code",
   "execution_count": null,
   "metadata": {
    "collapsed": false
   },
   "outputs": [],
   "source": []
  }
 ],
 "metadata": {
  "kernelspec": {
   "display_name": "Python 3",
   "language": "python",
   "name": "python3"
  },
  "language_info": {
   "codemirror_mode": {
    "name": "ipython",
    "version": 3
   },
   "file_extension": ".py",
   "mimetype": "text/x-python",
   "name": "python",
   "nbconvert_exporter": "python",
   "pygments_lexer": "ipython3",
   "version": "3.6.0"
  }
 },
 "nbformat": 4,
 "nbformat_minor": 2
}
