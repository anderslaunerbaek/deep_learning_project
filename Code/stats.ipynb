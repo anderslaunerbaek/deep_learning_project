{
 "cells": [
  {
   "cell_type": "markdown",
   "metadata": {},
   "source": [
    "# Master RNN notebook"
   ]
  },
  {
   "cell_type": "code",
   "execution_count": 23,
   "metadata": {
    "collapsed": true
   },
   "outputs": [],
   "source": [
    "from __future__ import absolute_import, division, print_function \n",
    "#import os\n",
    "#import re\n",
    "#import sys\n",
    "#import time\n",
    "\n",
    "#sys.path.append(os.path.join('.', '..')) \n",
    "#import utils\n",
    "#import utils_DL\n",
    "import utils_s160159 as u_s\n",
    "import collections\n",
    "#import matplotlib.pyplot as plt\n",
    "import numpy as np\n",
    "from sklearn.metrics import confusion_matrix"
   ]
  },
  {
   "cell_type": "code",
   "execution_count": 24,
   "metadata": {
    "collapsed": false
   },
   "outputs": [
    {
     "name": "stdout",
     "output_type": "stream",
     "text": [
      "Loading subject 20 of 20...\n"
     ]
    }
   ],
   "source": [
    "# load data\n",
    "\n",
    "data_dir = './../Data'\n",
    "logs_path = './logs'\n",
    "NUM_SUBJECTS = 20\n",
    "NUM_CLASSES = 6\n",
    "VAL_TRAIN_ID = NUM_SUBJECTS - 2\n",
    "\n",
    "# load all subjects into memory\n",
    "subjects_list = []\n",
    "target = []\n",
    "## Load\n",
    "for ii in range(1,NUM_SUBJECTS+1):\n",
    "    print(\"Loading subject %d of %d...\" %(ii, NUM_SUBJECTS), end='\\r')\n",
    "    tmp = np.load(data_dir + '_dicts' + '/subject_' + str(ii) + '_dict.npy').item()\n",
    "    \n",
    "    [target.append(tmp[1][jj]) for jj in range(len(tmp[1]))]\n",
    "    \n",
    "\n",
    "#\n",
    "print('')"
   ]
  },
  {
   "cell_type": "code",
   "execution_count": 50,
   "metadata": {
    "collapsed": false
   },
   "outputs": [
    {
     "data": {
      "text/plain": [
       "{0: 11.959906833110884,\n",
       " 1: 7.2282850488079351,\n",
       " 2: 45.999842977153179,\n",
       " 3: 8.6624270498024121,\n",
       " 4: 5.9694852267671612,\n",
       " 5: 20.18005286435843}"
      ]
     },
     "execution_count": 50,
     "metadata": {},
     "output_type": "execute_result"
    }
   ],
   "source": [
    "col_dict = dict(collections.Counter(target))\n",
    "tot = np.sum([col_dict[i] for i in range(NUM_CLASSES)])\n",
    "avg = [col_dict[i]/tot * 100 for i in range(NUM_CLASSES)]\n",
    "stat_dict = {}\n",
    "stat_dict[0] = avg[0]\n",
    "stat_dict[1] = avg[1]\n",
    "stat_dict[2] = avg[2]\n",
    "stat_dict[3] = avg[3]\n",
    "stat_dict[4] = avg[4]\n",
    "stat_dict[5] = avg[5]\n",
    "\n",
    "stat_dict"
   ]
  },
  {
   "cell_type": "code",
   "execution_count": null,
   "metadata": {
    "collapsed": true
   },
   "outputs": [],
   "source": []
  },
  {
   "cell_type": "code",
   "execution_count": null,
   "metadata": {
    "collapsed": true
   },
   "outputs": [],
   "source": []
  },
  {
   "cell_type": "code",
   "execution_count": null,
   "metadata": {
    "collapsed": true
   },
   "outputs": [],
   "source": []
  },
  {
   "cell_type": "code",
   "execution_count": null,
   "metadata": {
    "collapsed": true
   },
   "outputs": [],
   "source": []
  }
 ],
 "metadata": {
  "kernelspec": {
   "display_name": "Python 3",
   "language": "python",
   "name": "python3"
  },
  "language_info": {
   "codemirror_mode": {
    "name": "ipython",
    "version": 3
   },
   "file_extension": ".py",
   "mimetype": "text/x-python",
   "name": "python",
   "nbconvert_exporter": "python",
   "pygments_lexer": "ipython3",
   "version": "3.6.0"
  }
 },
 "nbformat": 4,
 "nbformat_minor": 2
}
