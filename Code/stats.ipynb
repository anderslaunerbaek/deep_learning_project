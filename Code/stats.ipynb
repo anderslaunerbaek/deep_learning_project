{
 "cells": [
  {
   "cell_type": "markdown",
   "metadata": {},
   "source": [
    "# Master RNN notebook"
   ]
  },
  {
   "cell_type": "code",
   "execution_count": 1,
   "metadata": {
    "collapsed": true
   },
   "outputs": [],
   "source": [
    "from __future__ import absolute_import, division, print_function \n",
    "#import os\n",
    "#import re\n",
    "#import sys\n",
    "#import time\n",
    "\n",
    "#sys.path.append(os.path.join('.', '..')) \n",
    "#import utils\n",
    "#import utils_DL\n",
    "import utils_s160159 as u_s\n",
    "import collections\n",
    "#import matplotlib.pyplot as plt\n",
    "import numpy as np\n",
    "from sklearn.metrics import confusion_matrix"
   ]
  },
  {
   "cell_type": "code",
   "execution_count": 2,
   "metadata": {
    "collapsed": false
   },
   "outputs": [
    {
     "name": "stdout",
     "output_type": "stream",
     "text": [
      "Loading subject 20 of 20...\n"
     ]
    }
   ],
   "source": [
    "# load data\n",
    "\n",
    "data_dir = './../Data'\n",
    "logs_path = './logs'\n",
    "NUM_SUBJECTS = 20\n",
    "NUM_CLASSES = 6\n",
    "VAL_TRAIN_ID = NUM_SUBJECTS - 2\n",
    "\n",
    "# load all subjects into memory\n",
    "subjects_list = []\n",
    "target = []\n",
    "## Load\n",
    "for ii in range(1,NUM_SUBJECTS+1):\n",
    "    print(\"Loading subject %d of %d...\" %(ii, NUM_SUBJECTS), end='\\r')\n",
    "    tmp = np.load(data_dir + '_dicts' + '/subject_' + str(ii) + '_dict.npy').item()\n",
    "    \n",
    "    [target.append(tmp[1][jj]) for jj in range(len(tmp[1]))]\n",
    "    \n",
    "\n",
    "#\n",
    "print('')"
   ]
  },
  {
   "cell_type": "code",
   "execution_count": 11,
   "metadata": {
    "collapsed": false
   },
   "outputs": [
    {
     "data": {
      "text/plain": [
       "{0: 12.0, 1: 7.0, 2: 46.0, 3: 9.0, 4: 6.0, 5: 20.0}"
      ]
     },
     "execution_count": 11,
     "metadata": {},
     "output_type": "execute_result"
    }
   ],
   "source": [
    "col_dict = dict(collections.Counter(target))\n",
    "tot = np.sum([col_dict[i] for i in range(NUM_CLASSES)])\n",
    "avg = [col_dict[i]/tot * 100 for i in range(NUM_CLASSES)]\n",
    "stat_dict = {}\n",
    "stat_dict[0] = np.round(avg[0],0)\n",
    "stat_dict[1] = np.round(avg[1],0)\n",
    "stat_dict[2] = np.round(avg[2],0)\n",
    "stat_dict[3] = np.round(avg[3],0)\n",
    "stat_dict[4] = np.round(avg[4],0)\n",
    "stat_dict[5] = np.round(avg[5],0)\n",
    "\n",
    "stat_dict"
   ]
  },
  {
   "cell_type": "code",
   "execution_count": 9,
   "metadata": {
    "collapsed": false
   },
   "outputs": [
    {
     "data": {
      "text/plain": [
       "38211"
      ]
     },
     "execution_count": 9,
     "metadata": {},
     "output_type": "execute_result"
    }
   ],
   "source": [
    "np.sum(list(col_dict.values()))"
   ]
  },
  {
   "cell_type": "code",
   "execution_count": 4,
   "metadata": {
    "collapsed": false
   },
   "outputs": [
    {
     "data": {
      "text/plain": [
       "38211"
      ]
     },
     "execution_count": 4,
     "metadata": {},
     "output_type": "execute_result"
    }
   ],
   "source": [
    "len(target)"
   ]
  },
  {
   "cell_type": "code",
   "execution_count": null,
   "metadata": {
    "collapsed": true
   },
   "outputs": [],
   "source": []
  },
  {
   "cell_type": "code",
   "execution_count": null,
   "metadata": {
    "collapsed": true
   },
   "outputs": [],
   "source": []
  },
  {
   "cell_type": "code",
   "execution_count": null,
   "metadata": {
    "collapsed": true
   },
   "outputs": [],
   "source": []
  },
  {
   "cell_type": "code",
   "execution_count": null,
   "metadata": {
    "collapsed": true
   },
   "outputs": [],
   "source": []
  },
  {
   "cell_type": "code",
   "execution_count": null,
   "metadata": {
    "collapsed": true
   },
   "outputs": [],
   "source": []
  },
  {
   "cell_type": "code",
   "execution_count": null,
   "metadata": {
    "collapsed": true
   },
   "outputs": [],
   "source": []
  },
  {
   "cell_type": "code",
   "execution_count": null,
   "metadata": {
    "collapsed": true
   },
   "outputs": [],
   "source": []
  }
 ],
 "metadata": {
  "kernelspec": {
   "display_name": "Python 3",
   "language": "python",
   "name": "python3"
  },
  "language_info": {
   "codemirror_mode": {
    "name": "ipython",
    "version": 3
   },
   "file_extension": ".py",
   "mimetype": "text/x-python",
   "name": "python",
   "nbconvert_exporter": "python",
   "pygments_lexer": "ipython3",
   "version": "3.6.0"
  }
 },
 "nbformat": 4,
 "nbformat_minor": 2
}
