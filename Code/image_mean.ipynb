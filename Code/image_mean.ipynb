{
 "cells": [
  {
   "cell_type": "markdown",
   "metadata": {},
   "source": [
    "# image_mean notebook"
   ]
  },
  {
   "cell_type": "code",
   "execution_count": 1,
   "metadata": {
    "collapsed": true
   },
   "outputs": [],
   "source": [
    "import numpy as np\n",
    "import utils_s160159 as u_s"
   ]
  },
  {
   "cell_type": "markdown",
   "metadata": {},
   "source": [
    "## Load data"
   ]
  },
  {
   "cell_type": "code",
   "execution_count": 3,
   "metadata": {
    "collapsed": false
   },
   "outputs": [
    {
     "name": "stdout",
     "output_type": "stream",
     "text": [
      "Image mean for all pictures\n",
      "[ 115.79640507  127.70359263  119.96839583]\n"
     ]
    }
   ],
   "source": [
    "data_dir = './../Data'\n",
    "NUM_SUBJECTS = 20\n",
    "#Load all subjects into memory\n",
    "image_mean = []\n",
    "for i in range(1,NUM_SUBJECTS+1):\n",
    "    print(\"Loading subject %d of %d...\" %(i, NUM_SUBJECTS), end='\\r')\n",
    "    inputs_night1, _, _  = u_s.load_spectrograms(data_path=data_dir, \n",
    "                                                              subject_id=i, \n",
    "                                                              night_id=1)\n",
    "    if i!=20:\n",
    "        inputs_night2, _, _  = u_s.load_spectrograms(data_path=data_dir,\n",
    "                                                     subject_id=i, \n",
    "                                                     night_id=2)\n",
    "    else:\n",
    "        inputs_night2 = np.empty((0,224,224,3),dtype='uint8')          \n",
    "\n",
    "    current_inputs = np.concatenate((inputs_night1, inputs_night2),0)\n",
    "    # append mean\n",
    "    image_mean.append(np.mean([np.mean(np.mean(current_inputs[ii],0),0) for ii in range(current_inputs.shape[0])],0))\n",
    "    # end loop\n",
    "    \n",
    "print('Image mean for all pictures')\n",
    "print(np.mean(image_mean,0))"
   ]
  },
  {
   "cell_type": "code",
   "execution_count": null,
   "metadata": {
    "collapsed": true
   },
   "outputs": [],
   "source": []
  }
 ],
 "metadata": {
  "kernelspec": {
   "display_name": "Python 3",
   "language": "python",
   "name": "python3"
  },
  "language_info": {
   "codemirror_mode": {
    "name": "ipython",
    "version": 3
   },
   "file_extension": ".py",
   "mimetype": "text/x-python",
   "name": "python",
   "nbconvert_exporter": "python",
   "pygments_lexer": "ipython3",
   "version": "3.6.0"
  }
 },
 "nbformat": 4,
 "nbformat_minor": 2
}
